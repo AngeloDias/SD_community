{
 "cells": [
  {
   "cell_type": "code",
   "execution_count": 1,
   "metadata": {},
   "outputs": [],
   "source": [
    "import pandas as pd\n",
    "import numpy as np\n",
    "import re"
   ]
  },
  {
   "cell_type": "code",
   "execution_count": 95,
   "metadata": {},
   "outputs": [],
   "source": [
    "regex_regra = re.compile('{(.*?)}->(\\w+)')\n",
    "regex_feat_value = re.compile('([^,=]+)=([^,=]+),?')"
   ]
  },
  {
   "cell_type": "code",
   "execution_count": 96,
   "metadata": {},
   "outputs": [],
   "source": [
    "with open('regras_tfidf_top10qg_stem.txt') as f:    \n",
    "    regras = [regex_regra.match(a).groups() for a in f]\n",
    "    regras = [(regex_feat_value.findall(cond),target) for cond,target in regras]"
   ]
  },
  {
   "cell_type": "code",
   "execution_count": 97,
   "metadata": {},
   "outputs": [
    {
     "data": {
      "text/plain": [
       "[([('and/or', 'alto'), ('graphic model', 'alto')], '151'),\n",
       " ([('dechter', 'alto'), ('graphic', 'alto')], '151'),\n",
       " ([('dechter', 'alto'), ('tabl', 'alto')], '151'),\n",
       " ([('dechter', 'alto'), ('make', 'baixo')], '151'),\n",
       " ([('dechter', 'alto'), ('weight', 'alto')], '151'),\n",
       " ([('dechter', 'alto'), ('graphic model', 'alto')], '151'),\n",
       " ([('dechter', 'alto'), ('describ', 'medio')], '151'),\n",
       " ([('dechter', 'alto'), ('simpl', 'baixo')], '151'),\n",
       " ([('dechter', 'alto'), ('idea', 'alto')], '151'),\n",
       " ([('comput scienc', 'baixo'), ('dechter', 'alto')], '151')]"
      ]
     },
     "execution_count": 97,
     "metadata": {},
     "output_type": "execute_result"
    }
   ],
   "source": [
    "regras[60:70]"
   ]
  },
  {
   "cell_type": "code",
   "execution_count": 4,
   "metadata": {},
   "outputs": [
    {
     "name": "stdout",
     "output_type": "stream",
     "text": [
      "<class 'pandas.core.frame.DataFrame'>\n",
      "RangeIndex: 568 entries, 0 to 567\n",
      "Columns: 4264 entries, aaai to community\n",
      "dtypes: int64(1), object(4263)\n",
      "memory usage: 18.5+ MB\n"
     ]
    }
   ],
   "source": [
    "tfidf_matrix = pd.read_csv('doc_term_matrix_tfidf_discrete.csv')\n",
    "tfidf_matrix.info()"
   ]
  },
  {
   "cell_type": "code",
   "execution_count": 7,
   "metadata": {},
   "outputs": [],
   "source": [
    "def evaluateRule(rule, example):\n",
    "    return all(map(lambda x: example[x[0]]==x[1], rule[0]))"
   ]
  },
  {
   "cell_type": "code",
   "execution_count": 81,
   "metadata": {},
   "outputs": [
    {
     "data": {
      "text/plain": [
       "True"
      ]
     },
     "execution_count": 81,
     "metadata": {},
     "output_type": "execute_result"
    }
   ],
   "source": [
    "evaluateRule(regras[0],tfidf_matrix.loc[28,:])"
   ]
  },
  {
   "cell_type": "code",
   "execution_count": 163,
   "metadata": {},
   "outputs": [],
   "source": [
    "def Qg(rule,df,target='community'):    \n",
    "    examples = df.apply(lambda x: evaluateRule(rule,x), axis=1)\n",
    "    tp = np.sum(df.loc[examples,target]==int(rule[1]))\n",
    "    fp = np.sum(examples) - tp\n",
    "#    print(tp,fp,np.argwhere(examples))\n",
    "    return tp/(fp+1.0)"
   ]
  },
  {
   "cell_type": "code",
   "execution_count": 94,
   "metadata": {},
   "outputs": [
    {
     "data": {
      "text/plain": [
       "11.0"
      ]
     },
     "execution_count": 94,
     "metadata": {},
     "output_type": "execute_result"
    }
   ],
   "source": [
    "Qg(regras[0],tfidf_matrix)"
   ]
  },
  {
   "cell_type": "code",
   "execution_count": 164,
   "metadata": {},
   "outputs": [],
   "source": [
    "import time\n",
    "def permutation_test(rule,matrix,target='community',repetition=1000,seed=time.time()):\n",
    "    np.random.seed(int(seed))    \n",
    "    df = matrix.copy()\n",
    "    def randomtest(i):        \n",
    "        df.loc[:,target] = np.random.permutation(df[target])     \n",
    "        return Qg(rule,df,target)\n",
    "    return np.fromfunction(np.vectorize(randomtest),shape=(repetition,))"
   ]
  },
  {
   "cell_type": "code",
   "execution_count": 167,
   "metadata": {},
   "outputs": [],
   "source": [
    "with open('random_test_tfidf.csv','w') as f:\n",
    "    pvalue = []\n",
    "    rep=1000\n",
    "    for rule in regras:\n",
    "        a = permutation_test(rule,tfidf_matrix,repetition=rep,seed=0)\n",
    "        f.write(','.join(map(lambda x: '{0:.3g}'.format(x),a)))\n",
    "        f.write('\\n')        \n",
    "        f.flush()\n",
    "        qg = Qg(rule,tfidf_matrix)\n",
    "        pvalue.append((np.sum(a>qg)+1)/(rep+1.0))\n",
    "print(','.join(map(lambda x: '{0:5e}'.format(x),pvalue)))"
   ]
  },
  {
   "cell_type": "code",
   "execution_count": 129,
   "metadata": {},
   "outputs": [
    {
     "data": {
      "text/plain": [
       "[(array([243, 279, 286, 319, 331, 369, 370, 371, 472, 486]),),\n",
       " (array([243, 286, 331, 369, 370, 371, 425, 472, 486]),),\n",
       " (array([243, 285, 286, 331, 369, 370, 371, 472, 486]),),\n",
       " (array([185, 243, 279, 286, 302, 319, 370, 371, 472]),),\n",
       " (array([185, 243, 279, 302, 319, 331, 369, 370, 371]),),\n",
       " (array([ 40, 279, 286, 302, 331, 369, 370, 371, 472]),),\n",
       " (array([243, 279, 286, 302, 319, 331, 369, 425, 486]),),\n",
       " (array([243, 279, 302, 319, 370, 425, 472, 486]),),\n",
       " (array([185, 302, 319, 369, 370, 371, 425, 472]),),\n",
       " (array([185, 279, 286, 369, 370, 371, 425, 486]),)]"
      ]
     },
     "execution_count": 129,
     "metadata": {},
     "output_type": "execute_result"
    }
   ],
   "source": [
    "s = []\n",
    "for i in range(90,100):\n",
    "    s.append(tfidf_matrix.apply(lambda x: evaluateRule(regras[i],x),axis=1))\n",
    "[np.where(a) for a in s]"
   ]
  },
  {
   "cell_type": "code",
   "execution_count": 130,
   "metadata": {},
   "outputs": [
    {
     "data": {
      "text/plain": [
       "15"
      ]
     },
     "execution_count": 130,
     "metadata": {},
     "output_type": "execute_result"
    }
   ],
   "source": [
    "np.sum(reduce(lambda x,y: x|y,s))"
   ]
  },
  {
   "cell_type": "code",
   "execution_count": 44,
   "metadata": {},
   "outputs": [],
   "source": [
    "artigos = pd.read_csv('titulo_doc_comunidade.csv',sep=';')\n",
    "artigosPR = pd.read_csv('titulo_doc_comunidade_pagerank.csv',sep=';')\n",
    "artigosGrau = pd.read_csv('titulo_doc_comunidade_degree.csv',sep=';')"
   ]
  },
  {
   "cell_type": "code",
   "execution_count": 131,
   "metadata": {},
   "outputs": [],
   "source": [
    "t = !ls txt/*.txt\n",
    "t = [re.sub('txt2?/(\\d+.?\\d+v\\d+)\\.txt','\\\\1',a) for a in t]\n",
    "t = np.array(t,dtype='object')[np.where(reduce(lambda x,y: x|y,s))[0]]"
   ]
  },
  {
   "cell_type": "code",
   "execution_count": 132,
   "metadata": {},
   "outputs": [
    {
     "data": {
      "text/plain": [
       "array([ 'Solving Influence Diagrams using HUGIN, Shafer-Shenoy and Lazy Propagation',\n",
       "       'Evaluating Influence Diagrams using LIMIDs',\n",
       "       'Using ROBDDs for Inference in Bayesian Networks with Troubleshooting as an Example',\n",
       "       'A computational scheme for Reasoning in Dynamic Probabilistic Networks',\n",
       "       'Making Sensitivity Analysis Computationally Efficient',\n",
       "       'Nested Junction Trees',\n",
       "       'Reduction of Computational Complexity in Bayesian Networks through Removal of Weak Dependencies',\n",
       "       'The Cost of Troubleshooting Cost Clusters with Inside Information',\n",
       "       'Myopic Value of Information in Influence Diagrams',\n",
       "       'Analysis in HUGIN of Data Conflict', 'Optimal Junction Trees',\n",
       "       'From Influence Diagrams to Junction Trees',\n",
       "       'Approximations in Bayesian Belief Universe for Knowledge Based Systems',\n",
       "       'Approximate Learning in Complex Dynamic Bayesian Networks',\n",
       "       'Belief Update in CLG Bayesian Networks With Lazy Propagation'], dtype=object)"
      ]
     },
     "execution_count": 132,
     "metadata": {},
     "output_type": "execute_result"
    }
   ],
   "source": [
    "artigos[(artigos.id.isin(t))].title.values"
   ]
  },
  {
   "cell_type": "code",
   "execution_count": 134,
   "metadata": {},
   "outputs": [
    {
     "data": {
      "text/plain": [
       "array([ 'Using ROBDDs for Inference in Bayesian Networks with Troubleshooting as an Example',\n",
       "       'A computational scheme for Reasoning in Dynamic Probabilistic Networks',\n",
       "       'Making Sensitivity Analysis Computationally Efficient',\n",
       "       'Nested Junction Trees',\n",
       "       'Reduction of Computational Complexity in Bayesian Networks through Removal of Weak Dependencies',\n",
       "       'Sensitivity Analysis for Threshold Decision Making with Dynamic Networks',\n",
       "       'Pivotal Pruning of Trade-offs in QPNs',\n",
       "       'Enhancing QPNs for Trade-off Resolution',\n",
       "       'Computing Probability Intervals Under Independency Constraints',\n",
       "       'How to Elicit Many Probabilities',\n",
       "       'The Computational Complexity of Sensitivity Analysis and Parameter Tuning',\n",
       "       'Learning Bayesian Network Parameters with Prior Knowledge about Context-Specific Qualitative Influences',\n",
       "       'Pre-processing for Triangulation of Probabilistic Networks',\n",
       "       'Analysing Sensitivity Data from Probabilistic Networks',\n",
       "       'aHUGIN: A System Creating Adaptive Causal Probabilistic Networks',\n",
       "       'Inference in Multiply Sectioned Bayesian Networks with Extended Shafer-Shenoy and Lazy Propagation',\n",
       "       'Myopic Value of Information in Influence Diagrams',\n",
       "       'Representing and Solving Asymmetric Bayesian Decision Problems',\n",
       "       'Welldefined Decision Scenarios',\n",
       "       'Analysis in HUGIN of Data Conflict', 'Optimal Junction Trees',\n",
       "       'The Cost of Troubleshooting Cost Clusters with Inside Information',\n",
       "       'From Influence Diagrams to Junction Trees',\n",
       "       'Evaluating Influence Diagrams using LIMIDs',\n",
       "       'MAIES: A Tool for DNA Mixture Analysis',\n",
       "       'On reasoning in networks with qualitative uncertainty',\n",
       "       'Re-entrant Structural Phase Transition in a Frustrated Kagome Magnet, Rb2SnCu3F12',\n",
       "       'Risk Agoras: Dialectical Argumentation for Scientific Reasoning',\n",
       "       'Local structure correlations in plastic cyclohexane - a Reverse Monte Carlo study',\n",
       "       'Approximations in Bayesian Belief Universe for Knowledge Based Systems',\n",
       "       'Conditions Under Which Conditional Independence and Scoring Methods Lead to Identical Selection of Bayesian Network Models',\n",
       "       'Propagation using Chain Event Graphs'], dtype=object)"
      ]
     },
     "execution_count": 134,
     "metadata": {},
     "output_type": "execute_result"
    }
   ],
   "source": [
    "artigosPR[artigosPR.community=='grupo 256'].title.values"
   ]
  },
  {
   "cell_type": "code",
   "execution_count": 136,
   "metadata": {},
   "outputs": [
    {
     "data": {
      "text/plain": [
       "array([ 'Sensitivity Analysis for Threshold Decision Making with Dynamic Networks',\n",
       "       'Pivotal Pruning of Trade-offs in QPNs',\n",
       "       'Enhancing QPNs for Trade-off Resolution',\n",
       "       'Computing Probability Intervals Under Independency Constraints',\n",
       "       'How to Elicit Many Probabilities',\n",
       "       'The Computational Complexity of Sensitivity Analysis and Parameter Tuning',\n",
       "       'Learning Bayesian Network Parameters with Prior Knowledge about Context-Specific Qualitative Influences',\n",
       "       'Pre-processing for Triangulation of Probabilistic Networks',\n",
       "       'Making Sensitivity Analysis Computationally Efficient',\n",
       "       'Analysing Sensitivity Data from Probabilistic Networks',\n",
       "       'aHUGIN: A System Creating Adaptive Causal Probabilistic Networks',\n",
       "       'Inference in Multiply Sectioned Bayesian Networks with Extended Shafer-Shenoy and Lazy Propagation',\n",
       "       'Myopic Value of Information in Influence Diagrams',\n",
       "       'Using ROBDDs for Inference in Bayesian Networks with Troubleshooting as an Example',\n",
       "       'Representing and Solving Asymmetric Bayesian Decision Problems',\n",
       "       'Welldefined Decision Scenarios',\n",
       "       'Analysis in HUGIN of Data Conflict', 'Optimal Junction Trees',\n",
       "       'The Cost of Troubleshooting Cost Clusters with Inside Information',\n",
       "       'From Influence Diagrams to Junction Trees',\n",
       "       'MAIES: A Tool for DNA Mixture Analysis',\n",
       "       'Conditions Under Which Conditional Independence and Scoring Methods Lead to Identical Selection of Bayesian Network Models',\n",
       "       'Propagation using Chain Event Graphs',\n",
       "       'Evaluating Influence Diagrams using LIMIDs',\n",
       "       'On reasoning in networks with qualitative uncertainty',\n",
       "       'Re-entrant Structural Phase Transition in a Frustrated Kagome Magnet, Rb2SnCu3F12',\n",
       "       'Risk Agoras: Dialectical Argumentation for Scientific Reasoning',\n",
       "       'Local structure correlations in plastic cyclohexane - a Reverse Monte Carlo study',\n",
       "       'A computational scheme for Reasoning in Dynamic Probabilistic Networks',\n",
       "       'Nested Junction Trees',\n",
       "       'Reduction of Computational Complexity in Bayesian Networks through Removal of Weak Dependencies',\n",
       "       'Approximations in Bayesian Belief Universe for Knowledge Based Systems'], dtype=object)"
      ]
     },
     "execution_count": 136,
     "metadata": {},
     "output_type": "execute_result"
    }
   ],
   "source": [
    "artigosGrau[artigosGrau.community=='grupo 256'].title.values"
   ]
  },
  {
   "cell_type": "code",
   "execution_count": 40,
   "metadata": {},
   "outputs": [
    {
     "data": {
      "text/plain": [
       "11"
      ]
     },
     "execution_count": 40,
     "metadata": {},
     "output_type": "execute_result"
    }
   ],
   "source": [
    "np.sum(artigos[(artigos.id.isin(t))].title.isin(artigosPR[artigosPR.community=='grupo 6'].title))"
   ]
  },
  {
   "cell_type": "code",
   "execution_count": 31,
   "metadata": {},
   "outputs": [
    {
     "data": {
      "text/plain": [
       "22     6\n",
       "27     6\n",
       "28     6\n",
       "36     6\n",
       "74     6\n",
       "76     6\n",
       "127    6\n",
       "134    6\n",
       "163    6\n",
       "194    6\n",
       "201    6\n",
       "202    6\n",
       "225    6\n",
       "233    6\n",
       "261    6\n",
       "272    6\n",
       "276    6\n",
       "311    6\n",
       "343    6\n",
       "382    6\n",
       "405    6\n",
       "408    6\n",
       "433    6\n",
       "434    6\n",
       "448    6\n",
       "457    6\n",
       "471    6\n",
       "545    6\n",
       "563    6\n",
       "Name: community, dtype: int64"
      ]
     },
     "execution_count": 31,
     "metadata": {},
     "output_type": "execute_result"
    }
   ],
   "source": [
    "tfidf_matrix.community[np.where(reduce(lambda x,y: x|y,s))[0]]"
   ]
  },
  {
   "cell_type": "code",
   "execution_count": 16,
   "metadata": {},
   "outputs": [
    {
     "data": {
      "text/plain": [
       "array([ 28,  36, 134, 163, 225, 233, 261, 272, 457, 545, 563])"
      ]
     },
     "execution_count": 16,
     "metadata": {},
     "output_type": "execute_result"
    }
   ],
   "source": [
    "artigos[]"
   ]
  },
  {
   "cell_type": "code",
   "execution_count": 23,
   "metadata": {},
   "outputs": [],
   "source": [
    "from functools import reduce"
   ]
  },
  {
   "cell_type": "code",
   "execution_count": 30,
   "metadata": {},
   "outputs": [
    {
     "data": {
      "text/plain": [
       "array([ 22,  27,  28,  36,  74,  76, 127, 134, 163, 194, 201, 202, 225,\n",
       "       233, 261, 272, 276, 311, 343, 382, 405, 408, 433, 434, 448, 457,\n",
       "       471, 545, 563])"
      ]
     },
     "execution_count": 30,
     "metadata": {},
     "output_type": "execute_result"
    }
   ],
   "source": [
    "np.where(reduce(lambda x,y: x|y,s))[0]"
   ]
  },
  {
   "cell_type": "code",
   "execution_count": null,
   "metadata": {},
   "outputs": [],
   "source": []
  }
 ],
 "metadata": {
  "kernelspec": {
   "display_name": "Python 3",
   "language": "python",
   "name": "python3"
  },
  "language_info": {
   "codemirror_mode": {
    "name": "ipython",
    "version": 3
   },
   "file_extension": ".py",
   "mimetype": "text/x-python",
   "name": "python",
   "nbconvert_exporter": "python",
   "pygments_lexer": "ipython3",
   "version": "3.6.3"
  }
 },
 "nbformat": 4,
 "nbformat_minor": 2
}
