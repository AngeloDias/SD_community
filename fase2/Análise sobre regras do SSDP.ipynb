{
 "cells": [
  {
   "cell_type": "markdown",
   "metadata": {},
   "source": [
    "Arquivo de análise usando a frequência: analise_doc_term_matriz_freq_with_header_discrete_AND.txt\n",
    "Arquivo de análise usando tf-idf: analise_doc_term_matriz_tfidf_with_header_discrete_AND.txt\n",
    "\n",
    "#### Sequência de leitura do arquivo\n",
    "1- Nome do arquivo que gerei para a análise<br />\n",
    "2- Nome do arquivo que o professor gerou para a análise<br />\n",
    "3- Nome do arquivo base usado para gerar os grupos<br />\n",
    "4- Número total Colunas (atributos)<br />\n",
    "5- Número total de Linhas (exemplos/amostras)<br />\n",
    "6- Nome da métrica de avaliação<br />\n",
    "7- Operador entre características usado pelo SSDP<br />\n",
    "##### // A partir daqui se repete até a última classe //\n",
    "8- Quebra de linha<br />\n",
    "9- Número identificador da classe avaliada<br />\n",
    "10- Quebra de linha<br />\n",
    "11- O conjunto de regras gerado a partir do PageRank<br />\n",
    "12- Quebra de linha<br />\n",
    "13- O conjunto de regras gerado a partir do total<br />"
   ]
  },
  {
   "cell_type": "code",
   "execution_count": 12,
   "metadata": {},
   "outputs": [],
   "source": [
    "import pandas as pd\n",
    "import numpy as np"
   ]
  },
  {
   "cell_type": "code",
   "execution_count": 15,
   "metadata": {},
   "outputs": [],
   "source": [
    "headerList = []\n",
    "# {ID: {'rulesA': [], 'rulesB': [], 'intersection': [], 'somenteEmA': [], 'somenteEmB': []}}\n",
    "# dfCommunity = {}\n",
    "dfCommunity = pd.DataFrame()#columns=['rulesA', 'rulesB', 'intersection', 'somenteEmA', 'somenteEmB'])\n",
    "# dfCommunity = pd.DataFrame()\n",
    "\n",
    "def colectDataFromFile(fileName):\n",
    "    readHeader = False\n",
    "    dfRulesA = pd.DataFrame(columns=['community', 'rules'])\n",
    "    dfRulesB = pd.DataFrame(columns=['community', 'rules'])\n",
    "\n",
    "    with open('../testingPageRank/' + fileName) as f:\n",
    "        lastID = ''\n",
    "        countSets = 0\n",
    "\n",
    "        for line in f:\n",
    "            cleanLine = line.replace('\\n','').strip()\n",
    "\n",
    "            if not readHeader:\n",
    "                headerList.append(cleanLine)\n",
    "            else:\n",
    "                if cleanLine.isdigit():\n",
    "                    lastID = cleanLine\n",
    "\n",
    "                elif '{' in cleanLine:\n",
    "                    cleanLine = cleanLine[1:-1]\n",
    "\n",
    "                    if countSets < 20:\n",
    "                        dfRulesA.loc[len(dfRulesA)] = cleanLine\n",
    "                    else:\n",
    "                        dfRulesB.loc[len(dfRulesB)] = cleanLine\n",
    "\n",
    "                    countSets += 1\n",
    "\n",
    "                if countSets > 0 and len(dfRulesB) == 20:\n",
    "                    # interseção\n",
    "                    dfIntersection = pd.merge(dfRulesA, dfRulesB, how='inner', on=['rules'])\n",
    "                    dfIntersection.drop(['community_x', 'community_y'], axis=1, inplace=True)\n",
    "                    dfIntersection.columns = ['rulesIntersection']\n",
    "                    \n",
    "                    # as diferenças entre os dataFrames\n",
    "                    setA = set(dfRulesA['rules'])\n",
    "                    setB = set(dfRulesB['rules'])\n",
    "                    \n",
    "                    print(\"Tamanho de A-B:\", len(list(setA - setB)))\n",
    "                    \n",
    "                    listNan = np.empty(1, len(dfRulesA['rules']) - len(list(setA - setB)))\n",
    "                    listNan = np.nan\n",
    "                    \n",
    "                    dfRulesA.columns = ['community', 'rulesA']\n",
    "                    dfRulesB.columns = ['community', 'rulesB']\n",
    "                    dfRulesA['community'] = lastID\n",
    "                    dfRulesB['community'] = lastID\n",
    "                    \n",
    "                    dfCommunity = pd.concat([dfRulesA, dfRulesB.drop(['community'], axis=1), dfIntersection], axis=1)\n",
    "                    \n",
    "                    dfCommunity['onlyOnA'] = list(setA - setB)\n",
    "                    dfCommunity['onlyOnB'] = list(setB - setA)\n",
    "                    \n",
    "                    dfRulesA = pd.DataFrame(columns=['community', 'rules'])\n",
    "                    dfRulesB = pd.DataFrame(columns=['community', 'rules'])\n",
    "    \n",
    "                    countSets = 0\n",
    "\n",
    "                    dfCommunity.to_csv('filesResults/rules_community_' + lastID + '.csv', header=True, index=False,\n",
    "                                       sep=';')\n",
    "            \n",
    "                    dfCommunity = pd.DataFrame()\n",
    "\n",
    "            if cleanLine == 'AND' or cleanLine == 'OR':\n",
    "                readHeader = True\n",
    "\n",
    "#     print(dfCommunity['6']['rulesA'])\n",
    "#     print(len(dfCommunity['6']['rulesA']))\n",
    "#     print(len(dfCommunity['6']['rulesB']))\n",
    "#     print('Intersection:', dfCommunity['256']['intersection'])\n",
    "#     print()\n",
    "#     print('Somente em B:', dfCommunity['256']['somenteEmB'])\n",
    "#     print('Size somente em B:', len(dfCommunity['256']['somenteEmB']))"
   ]
  },
  {
   "cell_type": "markdown",
   "metadata": {},
   "source": [
    "##### Testing data collect"
   ]
  },
  {
   "cell_type": "code",
   "execution_count": 16,
   "metadata": {},
   "outputs": [
    {
     "name": "stdout",
     "output_type": "stream",
     "text": [
      "Tamanho de A-B: 17\n"
     ]
    },
    {
     "ename": "TypeError",
     "evalue": "data type not understood",
     "output_type": "error",
     "traceback": [
      "\u001b[0;31m---------------------------------------------------------------------------\u001b[0m",
      "\u001b[0;31mTypeError\u001b[0m                                 Traceback (most recent call last)",
      "\u001b[0;32m<ipython-input-16-ae03214a13d7>\u001b[0m in \u001b[0;36m<module>\u001b[0;34m()\u001b[0m\n\u001b[0;32m----> 1\u001b[0;31m \u001b[0mcolectDataFromFile\u001b[0m\u001b[0;34m(\u001b[0m\u001b[0;34m'analise_doc_term_matriz_freq_with_header_discrete_AND.txt'\u001b[0m\u001b[0;34m)\u001b[0m\u001b[0;34m\u001b[0m\u001b[0m\n\u001b[0m\u001b[1;32m      2\u001b[0m \u001b[0;31m# colectDataFromFile('analise_doc_term_matriz_tfidf_with_header_discrete_AND.txt')\u001b[0m\u001b[0;34m\u001b[0m\u001b[0;34m\u001b[0m\u001b[0m\n",
      "\u001b[0;32m<ipython-input-15-0c1f5a7781a5>\u001b[0m in \u001b[0;36mcolectDataFromFile\u001b[0;34m(fileName)\u001b[0m\n\u001b[1;32m     45\u001b[0m                     \u001b[0mprint\u001b[0m\u001b[0;34m(\u001b[0m\u001b[0;34m\"Tamanho de A-B:\"\u001b[0m\u001b[0;34m,\u001b[0m \u001b[0mlen\u001b[0m\u001b[0;34m(\u001b[0m\u001b[0mlist\u001b[0m\u001b[0;34m(\u001b[0m\u001b[0msetA\u001b[0m \u001b[0;34m-\u001b[0m \u001b[0msetB\u001b[0m\u001b[0;34m)\u001b[0m\u001b[0;34m)\u001b[0m\u001b[0;34m)\u001b[0m\u001b[0;34m\u001b[0m\u001b[0m\n\u001b[1;32m     46\u001b[0m \u001b[0;34m\u001b[0m\u001b[0m\n\u001b[0;32m---> 47\u001b[0;31m                     \u001b[0mlistNan\u001b[0m \u001b[0;34m=\u001b[0m \u001b[0mnp\u001b[0m\u001b[0;34m.\u001b[0m\u001b[0mempty\u001b[0m\u001b[0;34m(\u001b[0m\u001b[0;36m1\u001b[0m\u001b[0;34m,\u001b[0m \u001b[0mlen\u001b[0m\u001b[0;34m(\u001b[0m\u001b[0mdfRulesA\u001b[0m\u001b[0;34m[\u001b[0m\u001b[0;34m'rules'\u001b[0m\u001b[0;34m]\u001b[0m\u001b[0;34m)\u001b[0m \u001b[0;34m-\u001b[0m \u001b[0mlen\u001b[0m\u001b[0;34m(\u001b[0m\u001b[0mlist\u001b[0m\u001b[0;34m(\u001b[0m\u001b[0msetA\u001b[0m \u001b[0;34m-\u001b[0m \u001b[0msetB\u001b[0m\u001b[0;34m)\u001b[0m\u001b[0;34m)\u001b[0m\u001b[0;34m)\u001b[0m\u001b[0;34m\u001b[0m\u001b[0m\n\u001b[0m\u001b[1;32m     48\u001b[0m                     \u001b[0mlistNan\u001b[0m \u001b[0;34m=\u001b[0m \u001b[0mnp\u001b[0m\u001b[0;34m.\u001b[0m\u001b[0mnan\u001b[0m\u001b[0;34m\u001b[0m\u001b[0m\n\u001b[1;32m     49\u001b[0m \u001b[0;34m\u001b[0m\u001b[0m\n",
      "\u001b[0;31mTypeError\u001b[0m: data type not understood"
     ]
    }
   ],
   "source": [
    "colectDataFromFile('analise_doc_term_matriz_freq_with_header_discrete_AND.txt')\n",
    "# colectDataFromFile('analise_doc_term_matriz_tfidf_with_header_discrete_AND.txt')"
   ]
  },
  {
   "cell_type": "code",
   "execution_count": 12,
   "metadata": {},
   "outputs": [
    {
     "data": {
      "text/html": [
       "<div>\n",
       "<style scoped>\n",
       "    .dataframe tbody tr th:only-of-type {\n",
       "        vertical-align: middle;\n",
       "    }\n",
       "\n",
       "    .dataframe tbody tr th {\n",
       "        vertical-align: top;\n",
       "    }\n",
       "\n",
       "    .dataframe thead th {\n",
       "        text-align: right;\n",
       "    }\n",
       "</style>\n",
       "<table border=\"1\" class=\"dataframe\">\n",
       "  <thead>\n",
       "    <tr style=\"text-align: right;\">\n",
       "      <th></th>\n",
       "      <th>rulesA</th>\n",
       "      <th>rulesB</th>\n",
       "      <th>intersection</th>\n",
       "      <th>somenteEmA</th>\n",
       "      <th>somenteEmB</th>\n",
       "    </tr>\n",
       "  </thead>\n",
       "  <tbody>\n",
       "  </tbody>\n",
       "</table>\n",
       "</div>"
      ],
      "text/plain": [
       "Empty DataFrame\n",
       "Columns: [rulesA, rulesB, intersection, somenteEmA, somenteEmB]\n",
       "Index: []"
      ]
     },
     "execution_count": 12,
     "metadata": {},
     "output_type": "execute_result"
    }
   ],
   "source": []
  },
  {
   "cell_type": "code",
   "execution_count": 13,
   "metadata": {},
   "outputs": [
    {
     "name": "stdout",
     "output_type": "stream",
     "text": [
      "<class 'pandas.core.frame.DataFrame'>\n",
      "Index: 0 entries\n",
      "Data columns (total 5 columns):\n",
      "rulesA          0 non-null object\n",
      "rulesB          0 non-null object\n",
      "intersection    0 non-null object\n",
      "somenteEmA      0 non-null object\n",
      "somenteEmB      0 non-null object\n",
      "dtypes: object(5)\n",
      "memory usage: 0.0+ bytes\n"
     ]
    }
   ],
   "source": []
  },
  {
   "cell_type": "code",
   "execution_count": null,
   "metadata": {},
   "outputs": [],
   "source": []
  }
 ],
 "metadata": {
  "kernelspec": {
   "display_name": "Python 3",
   "language": "python",
   "name": "python3"
  },
  "language_info": {
   "codemirror_mode": {
    "name": "ipython",
    "version": 3
   },
   "file_extension": ".py",
   "mimetype": "text/x-python",
   "name": "python",
   "nbconvert_exporter": "python",
   "pygments_lexer": "ipython3",
   "version": "3.6.4"
  }
 },
 "nbformat": 4,
 "nbformat_minor": 2
}
