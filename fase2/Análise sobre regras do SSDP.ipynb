{
 "cells": [
  {
   "cell_type": "markdown",
   "metadata": {},
   "source": [
    "Arquivo de análise usando a frequência: analise_doc_term_matriz_freq_with_header_discrete_AND.txt\n",
    "Arquivo de análise usando tf-idf: analise_doc_term_matriz_tfidf_with_header_discrete_AND.txt\n",
    "\n",
    "#### Sequência de leitura do arquivo\n",
    "1- Nome do arquivo que gerei para a análise<br />\n",
    "2- Nome do arquivo que o professor gerou para a análise<br />\n",
    "3- Nome do arquivo base usado para gerar os grupos<br />\n",
    "4- Número total Colunas (atributos)<br />\n",
    "5- Número total de Linhas (exemplos/amostras)<br />\n",
    "6- Nome da métrica de avaliação<br />\n",
    "7- Operador entre características usado pelo SSDP<br />\n",
    "##### // A partir daqui se repete até a última classe //\n",
    "8- Quebra de linha<br />\n",
    "9- Número identificador da classe avaliada<br />\n",
    "10- Quebra de linha<br />\n",
    "11- O conjunto de regras gerado a partir do PageRank<br />\n",
    "12- Quebra de linha<br />\n",
    "13- O conjunto de regras gerado a partir do total<br />"
   ]
  },
  {
   "cell_type": "code",
   "execution_count": 1,
   "metadata": {},
   "outputs": [],
   "source": [
    "import pandas as pd"
   ]
  },
  {
   "cell_type": "code",
   "execution_count": 15,
   "metadata": {},
   "outputs": [],
   "source": [
    "headerList = []\n",
    "# {ID: {'rulesA': [], 'rulesB': [], 'intersection': [], 'somenteEmA': [], 'somenteEmB': []}}\n",
    "# dfCommunity = {}\n",
    "dfCommunity = pd.DataFrame()#columns=['rulesA', 'rulesB', 'intersection', 'somenteEmA', 'somenteEmB'])\n",
    "# dfCommunity = pd.DataFrame()\n",
    "\n",
    "def colectDataFromFile(fileName):\n",
    "    readHeader = False\n",
    "    dfRulesA = pd.DataFrame(columns=['rules', 'community'])\n",
    "    dfRulesB = pd.DataFrame(columns=['rules', 'community'])\n",
    "\n",
    "    with open('../testingPageRank/' + fileName) as f:\n",
    "        lastID = ''\n",
    "        countSets = 0\n",
    "\n",
    "        for line in f:\n",
    "            cleanLine = line.replace('\\n','').strip()\n",
    "\n",
    "            if not readHeader:\n",
    "                headerList.append(cleanLine)\n",
    "            else:\n",
    "                if cleanLine.isdigit():\n",
    "                    lastID = cleanLine\n",
    "\n",
    "                elif '{' in cleanLine:\n",
    "                    cleanLine = cleanLine[1:-1]\n",
    "\n",
    "                    if countSets < 20:\n",
    "                        dfRulesA.loc[len(dfRulesA)] = cleanLine\n",
    "                    else:\n",
    "                        dfRulesB.loc[len(dfRulesB)] = cleanLine\n",
    "\n",
    "                    countSets += 1\n",
    "\n",
    "                if countSets > 0 and len(dfRulesB) == 20:\n",
    "                    dfRulesA.columns = ['rulesA', 'community']\n",
    "                    dfRulesB.columns = ['rulesB', 'community']\n",
    "                    dfRulesA['community'] = lastID\n",
    "                    dfRulesB['community'] = lastID\n",
    "                    \n",
    "                    dfCommunity = pd.concat([dfRulesA, dfRulesB], axis=1)# ignore_index=True)\n",
    "                    dfCommunity = pd.concat([dfCommunity, pd.merge(dfRulesA, dfRulesB, on=['community'])])\n",
    "                    \n",
    "                    # interseção\n",
    "#                     dfCommunity = pd.merge(dfRulesA, dfRulesB, on=['community'])\n",
    "                    dfRulesA = pd.DataFrame(columns=['rules', 'community'])\n",
    "                    dfRulesB = pd.DataFrame(columns=['rules', 'community'])\n",
    "                    \n",
    "#                     dfCommunity['somenteEmA'] = list(setA - setB)\n",
    "#                     dfCommunity['somenteEmB'] = list(setB - setA)\n",
    "    \n",
    "                    countSets = 0\n",
    "\n",
    "                    dfCommunity.to_csv('filesResults/rules_community_' + lastID + '.csv', header=True, index=False,\n",
    "                                       sep=';')\n",
    "            \n",
    "                    dfCommunity = pd.DataFrame()\n",
    "\n",
    "            if cleanLine == 'AND' or cleanLine == 'OR':\n",
    "                readHeader = True\n",
    "\n",
    "#     print(dfCommunity['6']['rulesA'])\n",
    "#     print(len(dfCommunity['6']['rulesA']))\n",
    "#     print(len(dfCommunity['6']['rulesB']))\n",
    "#     print('Intersection:', dfCommunity['256']['intersection'])\n",
    "#     print()\n",
    "#     print('Somente em B:', dfCommunity['256']['somenteEmB'])\n",
    "#     print('Size somente em B:', len(dfCommunity['256']['somenteEmB']))"
   ]
  },
  {
   "cell_type": "markdown",
   "metadata": {},
   "source": [
    "##### Testing data collect"
   ]
  },
  {
   "cell_type": "code",
   "execution_count": 16,
   "metadata": {},
   "outputs": [
    {
     "ename": "ValueError",
     "evalue": "Plan shapes are not aligned",
     "output_type": "error",
     "traceback": [
      "\u001b[0;31m---------------------------------------------------------------------------\u001b[0m",
      "\u001b[0;31mValueError\u001b[0m                                Traceback (most recent call last)",
      "\u001b[0;32m<ipython-input-16-ae03214a13d7>\u001b[0m in \u001b[0;36m<module>\u001b[0;34m()\u001b[0m\n\u001b[0;32m----> 1\u001b[0;31m \u001b[0mcolectDataFromFile\u001b[0m\u001b[0;34m(\u001b[0m\u001b[0;34m'analise_doc_term_matriz_freq_with_header_discrete_AND.txt'\u001b[0m\u001b[0;34m)\u001b[0m\u001b[0;34m\u001b[0m\u001b[0m\n\u001b[0m\u001b[1;32m      2\u001b[0m \u001b[0;31m# colectDataFromFile('analise_doc_term_matriz_tfidf_with_header_discrete_AND.txt')\u001b[0m\u001b[0;34m\u001b[0m\u001b[0;34m\u001b[0m\u001b[0m\n",
      "\u001b[0;32m<ipython-input-15-fb852574ceb1>\u001b[0m in \u001b[0;36mcolectDataFromFile\u001b[0;34m(fileName)\u001b[0m\n\u001b[1;32m     40\u001b[0m \u001b[0;34m\u001b[0m\u001b[0m\n\u001b[1;32m     41\u001b[0m                     \u001b[0mdfCommunity\u001b[0m \u001b[0;34m=\u001b[0m \u001b[0mpd\u001b[0m\u001b[0;34m.\u001b[0m\u001b[0mconcat\u001b[0m\u001b[0;34m(\u001b[0m\u001b[0;34m[\u001b[0m\u001b[0mdfRulesA\u001b[0m\u001b[0;34m,\u001b[0m \u001b[0mdfRulesB\u001b[0m\u001b[0;34m]\u001b[0m\u001b[0;34m,\u001b[0m \u001b[0maxis\u001b[0m\u001b[0;34m=\u001b[0m\u001b[0;36m1\u001b[0m\u001b[0;34m)\u001b[0m\u001b[0;31m# ignore_index=True)\u001b[0m\u001b[0;34m\u001b[0m\u001b[0m\n\u001b[0;32m---> 42\u001b[0;31m                     \u001b[0mdfCommunity\u001b[0m \u001b[0;34m=\u001b[0m \u001b[0mpd\u001b[0m\u001b[0;34m.\u001b[0m\u001b[0mconcat\u001b[0m\u001b[0;34m(\u001b[0m\u001b[0;34m[\u001b[0m\u001b[0mdfCommunity\u001b[0m\u001b[0;34m,\u001b[0m \u001b[0mpd\u001b[0m\u001b[0;34m.\u001b[0m\u001b[0mmerge\u001b[0m\u001b[0;34m(\u001b[0m\u001b[0mdfRulesA\u001b[0m\u001b[0;34m,\u001b[0m \u001b[0mdfRulesB\u001b[0m\u001b[0;34m,\u001b[0m \u001b[0mon\u001b[0m\u001b[0;34m=\u001b[0m\u001b[0;34m[\u001b[0m\u001b[0;34m'community'\u001b[0m\u001b[0;34m]\u001b[0m\u001b[0;34m)\u001b[0m\u001b[0;34m]\u001b[0m\u001b[0;34m)\u001b[0m\u001b[0;34m\u001b[0m\u001b[0m\n\u001b[0m\u001b[1;32m     43\u001b[0m \u001b[0;34m\u001b[0m\u001b[0m\n\u001b[1;32m     44\u001b[0m                     \u001b[0;31m# interseção\u001b[0m\u001b[0;34m\u001b[0m\u001b[0;34m\u001b[0m\u001b[0m\n",
      "\u001b[0;32m~/tools/anaconda3/lib/python3.6/site-packages/pandas/core/reshape/concat.py\u001b[0m in \u001b[0;36mconcat\u001b[0;34m(objs, axis, join, join_axes, ignore_index, keys, levels, names, verify_integrity, copy)\u001b[0m\n\u001b[1;32m    211\u001b[0m                        \u001b[0mverify_integrity\u001b[0m\u001b[0;34m=\u001b[0m\u001b[0mverify_integrity\u001b[0m\u001b[0;34m,\u001b[0m\u001b[0;34m\u001b[0m\u001b[0m\n\u001b[1;32m    212\u001b[0m                        copy=copy)\n\u001b[0;32m--> 213\u001b[0;31m     \u001b[0;32mreturn\u001b[0m \u001b[0mop\u001b[0m\u001b[0;34m.\u001b[0m\u001b[0mget_result\u001b[0m\u001b[0;34m(\u001b[0m\u001b[0;34m)\u001b[0m\u001b[0;34m\u001b[0m\u001b[0m\n\u001b[0m\u001b[1;32m    214\u001b[0m \u001b[0;34m\u001b[0m\u001b[0m\n\u001b[1;32m    215\u001b[0m \u001b[0;34m\u001b[0m\u001b[0m\n",
      "\u001b[0;32m~/tools/anaconda3/lib/python3.6/site-packages/pandas/core/reshape/concat.py\u001b[0m in \u001b[0;36mget_result\u001b[0;34m(self)\u001b[0m\n\u001b[1;32m    406\u001b[0m             new_data = concatenate_block_managers(\n\u001b[1;32m    407\u001b[0m                 \u001b[0mmgrs_indexers\u001b[0m\u001b[0;34m,\u001b[0m \u001b[0mself\u001b[0m\u001b[0;34m.\u001b[0m\u001b[0mnew_axes\u001b[0m\u001b[0;34m,\u001b[0m \u001b[0mconcat_axis\u001b[0m\u001b[0;34m=\u001b[0m\u001b[0mself\u001b[0m\u001b[0;34m.\u001b[0m\u001b[0maxis\u001b[0m\u001b[0;34m,\u001b[0m\u001b[0;34m\u001b[0m\u001b[0m\n\u001b[0;32m--> 408\u001b[0;31m                 copy=self.copy)\n\u001b[0m\u001b[1;32m    409\u001b[0m             \u001b[0;32mif\u001b[0m \u001b[0;32mnot\u001b[0m \u001b[0mself\u001b[0m\u001b[0;34m.\u001b[0m\u001b[0mcopy\u001b[0m\u001b[0;34m:\u001b[0m\u001b[0;34m\u001b[0m\u001b[0m\n\u001b[1;32m    410\u001b[0m                 \u001b[0mnew_data\u001b[0m\u001b[0;34m.\u001b[0m\u001b[0m_consolidate_inplace\u001b[0m\u001b[0;34m(\u001b[0m\u001b[0;34m)\u001b[0m\u001b[0;34m\u001b[0m\u001b[0m\n",
      "\u001b[0;32m~/tools/anaconda3/lib/python3.6/site-packages/pandas/core/internals.py\u001b[0m in \u001b[0;36mconcatenate_block_managers\u001b[0;34m(mgrs_indexers, axes, concat_axis, copy)\u001b[0m\n\u001b[1;32m   5186\u001b[0m     \u001b[0mblocks\u001b[0m \u001b[0;34m=\u001b[0m \u001b[0;34m[\u001b[0m\u001b[0;34m]\u001b[0m\u001b[0;34m\u001b[0m\u001b[0m\n\u001b[1;32m   5187\u001b[0m \u001b[0;34m\u001b[0m\u001b[0m\n\u001b[0;32m-> 5188\u001b[0;31m     \u001b[0;32mfor\u001b[0m \u001b[0mplacement\u001b[0m\u001b[0;34m,\u001b[0m \u001b[0mjoin_units\u001b[0m \u001b[0;32min\u001b[0m \u001b[0mconcat_plan\u001b[0m\u001b[0;34m:\u001b[0m\u001b[0;34m\u001b[0m\u001b[0m\n\u001b[0m\u001b[1;32m   5189\u001b[0m \u001b[0;34m\u001b[0m\u001b[0m\n\u001b[1;32m   5190\u001b[0m         \u001b[0;32mif\u001b[0m \u001b[0mlen\u001b[0m\u001b[0;34m(\u001b[0m\u001b[0mjoin_units\u001b[0m\u001b[0;34m)\u001b[0m \u001b[0;34m==\u001b[0m \u001b[0;36m1\u001b[0m \u001b[0;32mand\u001b[0m \u001b[0;32mnot\u001b[0m \u001b[0mjoin_units\u001b[0m\u001b[0;34m[\u001b[0m\u001b[0;36m0\u001b[0m\u001b[0;34m]\u001b[0m\u001b[0;34m.\u001b[0m\u001b[0mindexers\u001b[0m\u001b[0;34m:\u001b[0m\u001b[0;34m\u001b[0m\u001b[0m\n",
      "\u001b[0;32m~/tools/anaconda3/lib/python3.6/site-packages/pandas/core/internals.py\u001b[0m in \u001b[0;36mcombine_concat_plans\u001b[0;34m(plans, concat_axis)\u001b[0m\n\u001b[1;32m   5458\u001b[0m         \u001b[0;32mwhile\u001b[0m \u001b[0mnum_ended\u001b[0m\u001b[0;34m[\u001b[0m\u001b[0;36m0\u001b[0m\u001b[0;34m]\u001b[0m \u001b[0;34m!=\u001b[0m \u001b[0mlen\u001b[0m\u001b[0;34m(\u001b[0m\u001b[0mnext_items\u001b[0m\u001b[0;34m)\u001b[0m\u001b[0;34m:\u001b[0m\u001b[0;34m\u001b[0m\u001b[0m\n\u001b[1;32m   5459\u001b[0m             \u001b[0;32mif\u001b[0m \u001b[0mnum_ended\u001b[0m\u001b[0;34m[\u001b[0m\u001b[0;36m0\u001b[0m\u001b[0;34m]\u001b[0m \u001b[0;34m>\u001b[0m \u001b[0;36m0\u001b[0m\u001b[0;34m:\u001b[0m\u001b[0;34m\u001b[0m\u001b[0m\n\u001b[0;32m-> 5460\u001b[0;31m                 \u001b[0;32mraise\u001b[0m \u001b[0mValueError\u001b[0m\u001b[0;34m(\u001b[0m\u001b[0;34m\"Plan shapes are not aligned\"\u001b[0m\u001b[0;34m)\u001b[0m\u001b[0;34m\u001b[0m\u001b[0m\n\u001b[0m\u001b[1;32m   5461\u001b[0m \u001b[0;34m\u001b[0m\u001b[0m\n\u001b[1;32m   5462\u001b[0m             \u001b[0mplacements\u001b[0m\u001b[0;34m,\u001b[0m \u001b[0munits\u001b[0m \u001b[0;34m=\u001b[0m \u001b[0mzip\u001b[0m\u001b[0;34m(\u001b[0m\u001b[0;34m*\u001b[0m\u001b[0mnext_items\u001b[0m\u001b[0;34m)\u001b[0m\u001b[0;34m\u001b[0m\u001b[0m\n",
      "\u001b[0;31mValueError\u001b[0m: Plan shapes are not aligned"
     ]
    }
   ],
   "source": [
    "colectDataFromFile('analise_doc_term_matriz_freq_with_header_discrete_AND.txt')\n",
    "# colectDataFromFile('analise_doc_term_matriz_tfidf_with_header_discrete_AND.txt')"
   ]
  },
  {
   "cell_type": "code",
   "execution_count": 12,
   "metadata": {},
   "outputs": [
    {
     "data": {
      "text/html": [
       "<div>\n",
       "<style scoped>\n",
       "    .dataframe tbody tr th:only-of-type {\n",
       "        vertical-align: middle;\n",
       "    }\n",
       "\n",
       "    .dataframe tbody tr th {\n",
       "        vertical-align: top;\n",
       "    }\n",
       "\n",
       "    .dataframe thead th {\n",
       "        text-align: right;\n",
       "    }\n",
       "</style>\n",
       "<table border=\"1\" class=\"dataframe\">\n",
       "  <thead>\n",
       "    <tr style=\"text-align: right;\">\n",
       "      <th></th>\n",
       "      <th>rulesA</th>\n",
       "      <th>rulesB</th>\n",
       "      <th>intersection</th>\n",
       "      <th>somenteEmA</th>\n",
       "      <th>somenteEmB</th>\n",
       "    </tr>\n",
       "  </thead>\n",
       "  <tbody>\n",
       "  </tbody>\n",
       "</table>\n",
       "</div>"
      ],
      "text/plain": [
       "Empty DataFrame\n",
       "Columns: [rulesA, rulesB, intersection, somenteEmA, somenteEmB]\n",
       "Index: []"
      ]
     },
     "execution_count": 12,
     "metadata": {},
     "output_type": "execute_result"
    }
   ],
   "source": []
  },
  {
   "cell_type": "code",
   "execution_count": 13,
   "metadata": {},
   "outputs": [
    {
     "name": "stdout",
     "output_type": "stream",
     "text": [
      "<class 'pandas.core.frame.DataFrame'>\n",
      "Index: 0 entries\n",
      "Data columns (total 5 columns):\n",
      "rulesA          0 non-null object\n",
      "rulesB          0 non-null object\n",
      "intersection    0 non-null object\n",
      "somenteEmA      0 non-null object\n",
      "somenteEmB      0 non-null object\n",
      "dtypes: object(5)\n",
      "memory usage: 0.0+ bytes\n"
     ]
    }
   ],
   "source": []
  },
  {
   "cell_type": "code",
   "execution_count": null,
   "metadata": {},
   "outputs": [],
   "source": []
  }
 ],
 "metadata": {
  "kernelspec": {
   "display_name": "Python 3",
   "language": "python",
   "name": "python3"
  },
  "language_info": {
   "codemirror_mode": {
    "name": "ipython",
    "version": 3
   },
   "file_extension": ".py",
   "mimetype": "text/x-python",
   "name": "python",
   "nbconvert_exporter": "python",
   "pygments_lexer": "ipython3",
   "version": "3.6.4"
  }
 },
 "nbformat": 4,
 "nbformat_minor": 2
}
