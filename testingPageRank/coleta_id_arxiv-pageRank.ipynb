{
 "cells": [
  {
   "cell_type": "code",
   "execution_count": 1,
   "metadata": {},
   "outputs": [],
   "source": [
    "import pandas as pd\n",
    "import requests as rq\n",
    "import numpy as np\n",
    "from bs4 import BeautifulSoup\n",
    "from time import sleep\n",
    "import re"
   ]
  },
  {
   "cell_type": "code",
   "execution_count": 12,
   "metadata": {},
   "outputs": [
    {
     "data": {
      "text/html": [
       "<div>\n",
       "<style scoped>\n",
       "    .dataframe tbody tr th:only-of-type {\n",
       "        vertical-align: middle;\n",
       "    }\n",
       "\n",
       "    .dataframe tbody tr th {\n",
       "        vertical-align: top;\n",
       "    }\n",
       "\n",
       "    .dataframe thead th {\n",
       "        text-align: right;\n",
       "    }\n",
       "</style>\n",
       "<table border=\"1\" class=\"dataframe\">\n",
       "  <thead>\n",
       "    <tr style=\"text-align: right;\">\n",
       "      <th></th>\n",
       "      <th>title</th>\n",
       "      <th>community</th>\n",
       "      <th>id</th>\n",
       "    </tr>\n",
       "  </thead>\n",
       "  <tbody>\n",
       "    <tr>\n",
       "      <th>0</th>\n",
       "      <td>Plausible reasoning from spatial observations</td>\n",
       "      <td>6</td>\n",
       "      <td>1301.2285v1</td>\n",
       "    </tr>\n",
       "    <tr>\n",
       "      <th>1</th>\n",
       "      <td>A Monte-Carlo Algorithm for Dempster-Shafer Be...</td>\n",
       "      <td>6</td>\n",
       "      <td>1303.5757v1</td>\n",
       "    </tr>\n",
       "    <tr>\n",
       "      <th>2</th>\n",
       "      <td>The Computational Complexity of Dominance and ...</td>\n",
       "      <td>6</td>\n",
       "      <td>1401.3453v1</td>\n",
       "    </tr>\n",
       "    <tr>\n",
       "      <th>3</th>\n",
       "      <td>The Assumptions Behind Dempster's Rule</td>\n",
       "      <td>6</td>\n",
       "      <td>1303.1518v1</td>\n",
       "    </tr>\n",
       "    <tr>\n",
       "      <th>4</th>\n",
       "      <td>Generating Graphoids from Generalised Conditio...</td>\n",
       "      <td>6</td>\n",
       "      <td>1302.6852v1</td>\n",
       "    </tr>\n",
       "  </tbody>\n",
       "</table>\n",
       "</div>"
      ],
      "text/plain": [
       "                                               title  community           id\n",
       "0      Plausible reasoning from spatial observations          6  1301.2285v1\n",
       "1  A Monte-Carlo Algorithm for Dempster-Shafer Be...          6  1303.5757v1\n",
       "2  The Computational Complexity of Dominance and ...          6  1401.3453v1\n",
       "3             The Assumptions Behind Dempster's Rule          6  1303.1518v1\n",
       "4  Generating Graphoids from Generalised Conditio...          6  1302.6852v1"
      ]
     },
     "execution_count": 12,
     "metadata": {},
     "output_type": "execute_result"
    }
   ],
   "source": [
    "docs = pd.read_csv('../titulo_doc_comunidade/titulo_doc_comunidade_pagerank.csv',sep=';')\n",
    "docs['id'] = ''\n",
    "\n",
    "docAllWithID = pd.read_csv('../titulo_doc_comunidade/titulo_doc_comunidade.csv',sep=';')\n",
    "\n",
    "docs.head()"
   ]
  },
  {
   "cell_type": "code",
   "execution_count": 48,
   "metadata": {},
   "outputs": [
    {
     "name": "stdout",
     "output_type": "stream",
     "text": [
      "Index(['title', 'community', 'id'], dtype='object')\n",
      "Index(['title', 'community', 'id'], dtype='object')\n"
     ]
    },
    {
     "name": "stderr",
     "output_type": "stream",
     "text": [
      "/home/angelo/anaconda3/lib/python3.6/site-packages/ipykernel_launcher.py:15: SettingWithCopyWarning: \n",
      "A value is trying to be set on a copy of a slice from a DataFrame.\n",
      "Try using .loc[row_indexer,col_indexer] = value instead\n",
      "\n",
      "See the caveats in the documentation: http://pandas.pydata.org/pandas-docs/stable/indexing.html#indexing-view-versus-copy\n",
      "  from ipykernel import kernelapp as app\n"
     ]
    }
   ],
   "source": [
    "############################# Aqui a ideia é pegar o ID do documento a partir do seu título #############################\n",
    "\n",
    "count = 0\n",
    "\n",
    "copyDoc = pd.DataFrame(columns=docAllWithID.columns)\n",
    "line = 0\n",
    "\n",
    "print(copyDoc.columns)\n",
    "print(docs.columns)\n",
    "\n",
    "for _, row in docAllWithID.iterrows():\n",
    "    \n",
    "    if row['title'] in docs.title.values:\n",
    "        pageRankRow = docs.loc[docs['title'] == row['title']]\n",
    "        pageRankRow['id'] = row['id']\n",
    "#         copyDoc.append(pd.DataFrame(pageRankRow))\n",
    "        line += 1\n",
    "#         print(copyDoc.loc[copyDoc['title'] == row['title']])\n",
    "    \n",
    "    if count >= 10:\n",
    "        break\n",
    "        \n",
    "    count += 1\n",
    "    \n",
    "# copyDoc.to_csv('titulo_doc_comunidade_page_rank_with_id.csv', header=True,index=False,sep=';')"
   ]
  },
  {
   "cell_type": "code",
   "execution_count": 4,
   "metadata": {
    "collapsed": true
   },
   "outputs": [],
   "source": [
    "def searchArxiv(title):\n",
    "    url = \"http://export.arxiv.org/api/query?search_query=ti:%22{}%22\".\\\n",
    "                                            format(re.sub(\"[^0-9a-zA-Z]+\",'+',title).lower())\n",
    "    try:\n",
    "        r = rq.get(url)\n",
    "        parser = BeautifulSoup(r.text,\"xml\")\n",
    "        regex = re.compile('[^\\w]')\n",
    "\n",
    "        ret = pd.Series({'title':title,'id':r.text})\n",
    "        for e in parser.findAll('entry'):\n",
    "            if regex.sub('',e.title.text).lower() == regex.sub('',title).lower():\n",
    "                ret = pd.Series({'title':e.title.text,'id':e.id.text.replace(\"http://arxiv.org/abs/\",\"\")})\n",
    "                break        \n",
    "    except AttributeError:\n",
    "        ret = pd.Series({'title':title,'id':r.text})\n",
    "    except ConnectionError:    \n",
    "        ret = pd.Series({'title':title,'id':None})\n",
    "    finally:\n",
    "        sleep(np.random.random_sample()*5)\n",
    "        return ret"
   ]
  },
  {
   "cell_type": "code",
   "execution_count": 5,
   "metadata": {
    "collapsed": true
   },
   "outputs": [],
   "source": [
    "ids = docs.title.apply(searchArxiv)"
   ]
  },
  {
   "cell_type": "code",
   "execution_count": 15,
   "metadata": {},
   "outputs": [
    {
     "name": "stdout",
     "output_type": "stream",
     "text": [
      "<?xml version=\"1.0\" encoding=\"UTF-8\"?>\n",
      "<feed xmlns=\"http://www.w3.org/2005/Atom\">\n",
      "  <link href=\"http://arxiv.org/api/query?search_query%3Dti%3A%22the%20assumptions%20behind%20dempster%20s%20rule%22%26id_list%3D%26start%3D0%26max_results%3D10\" rel=\"self\" type=\"application/atom+xml\"/>\n",
      "  <title type=\"html\">ArXiv Query: search_query=ti:\"the assumptions behind dempster s rule\"&amp;id_list=&amp;start=0&amp;max_results=10</title>\n",
      "  <id>http://arxiv.org/api/2u3H0eCatmkYKhOnlGYMryA+K4E</id>\n",
      "  <updated>2018-03-06T00:00:00-05:00</updated>\n",
      "  <opensearch:totalResults xmlns:opensearch=\"http://a9.com/-/spec/opensearch/1.1/\">0</opensearch:totalResults>\n",
      "  <opensearch:startIndex xmlns:opensearch=\"http://a9.com/-/spec/opensearch/1.1/\">0</opensearch:startIndex>\n",
      "  <opensearch:itemsPerPage xmlns:opensearch=\"http://a9.com/-/spec/opensearch/1.1/\">10</opensearch:itemsPerPage>\n",
      "</feed>\n",
      "\n",
      "\n",
      "<?xml version=\"1.0\" encoding=\"UTF-8\"?>\n",
      "<feed xmlns=\"http://www.w3.org/2005/Atom\">\n",
      "  <link href=\"http://arxiv.org/api/query?search_query%3Dti%3A%22ucp%20networks%20a%20directed%20graphical%20representation%20of%20conditional%20utilities%22%26id_list%3D%26start%3D0%26max_results%3D10\" rel=\"self\" type=\"application/atom+xml\"/>\n",
      "  <title type=\"html\">ArXiv Query: search_query=ti:\"ucp networks a directed graphical representation of conditional utilities\"&amp;id_list=&amp;start=0&amp;max_results=10</title>\n",
      "  <id>http://arxiv.org/api/F57MGjrtCdFT8i4xn/pLtcuAEn0</id>\n",
      "  <updated>2018-03-06T00:00:00-05:00</updated>\n",
      "  <opensearch:totalResults xmlns:opensearch=\"http://a9.com/-/spec/opensearch/1.1/\">0</opensearch:totalResults>\n",
      "  <opensearch:startIndex xmlns:opensearch=\"http://a9.com/-/spec/opensearch/1.1/\">0</opensearch:startIndex>\n",
      "  <opensearch:itemsPerPage xmlns:opensearch=\"http://a9.com/-/spec/opensearch/1.1/\">10</opensearch:itemsPerPage>\n",
      "</feed>\n",
      "\n",
      "\n",
      "<?xml version=\"1.0\" encoding=\"UTF-8\"?>\n",
      "<feed xmlns=\"http://www.w3.org/2005/Atom\">\n",
      "  <link href=\"http://arxiv.org/api/query?search_query%3Dti%3A%22causes%20and%20explanations%20a%20structural%20model%20approach%20part%201%20causes%22%26id_list%3D%26start%3D0%26max_results%3D10\" rel=\"self\" type=\"application/atom+xml\"/>\n",
      "  <title type=\"html\">ArXiv Query: search_query=ti:\"causes and explanations a structural model approach part 1 causes\"&amp;id_list=&amp;start=0&amp;max_results=10</title>\n",
      "  <id>http://arxiv.org/api/uocOkv8EjUeh6RMZQzFRMLNeqzU</id>\n",
      "  <updated>2018-03-06T00:00:00-05:00</updated>\n",
      "  <opensearch:totalResults xmlns:opensearch=\"http://a9.com/-/spec/opensearch/1.1/\">0</opensearch:totalResults>\n",
      "  <opensearch:startIndex xmlns:opensearch=\"http://a9.com/-/spec/opensearch/1.1/\">0</opensearch:startIndex>\n",
      "  <opensearch:itemsPerPage xmlns:opensearch=\"http://a9.com/-/spec/opensearch/1.1/\">10</opensearch:itemsPerPage>\n",
      "</feed>\n",
      "\n",
      "\n",
      "<?xml version=\"1.0\" encoding=\"UTF-8\"?>\n",
      "<feed xmlns=\"http://www.w3.org/2005/Atom\">\n",
      "  <link href=\"http://arxiv.org/api/query?search_query%3Dti%3A%22etude%20de%20modeles%20a%20base%20de%20reseaux%20bayesiens%20pour%20l%20aide%20au%20diagnostic%20de%20tumeurs%20cerebrales%22%26id_list%3D%26start%3D0%26max_results%3D10\" rel=\"self\" type=\"application/atom+xml\"/>\n",
      "  <title type=\"html\">ArXiv Query: search_query=ti:\"etude de modeles a base de reseaux bayesiens pour l aide au diagnostic de tumeurs cerebrales\"&amp;id_list=&amp;start=0&amp;max_results=10</title>\n",
      "  <id>http://arxiv.org/api/YZHUSXL3WHmCNX4eXxcpHPQ/CZc</id>\n",
      "  <updated>2018-03-06T00:00:00-05:00</updated>\n",
      "  <opensearch:totalResults xmlns:opensearch=\"http://a9.com/-/spec/opensearch/1.1/\">0</opensearch:totalResults>\n",
      "  <opensearch:startIndex xmlns:opensearch=\"http://a9.com/-/spec/opensearch/1.1/\">0</opensearch:startIndex>\n",
      "  <opensearch:itemsPerPage xmlns:opensearch=\"http://a9.com/-/spec/opensearch/1.1/\">10</opensearch:itemsPerPage>\n",
      "</feed>\n",
      "\n",
      "\n",
      "<?xml version=\"1.0\" encoding=\"UTF-8\"?>\n",
      "<feed xmlns=\"http://www.w3.org/2005/Atom\">\n",
      "  <link href=\"http://arxiv.org/api/query?search_query%3Dti%3A%22a%20fuzzy%20relation%20based%20extension%20of%20reggia%20s%20relational%20model%20for%20diagnosis%20handling%20uncertain%20and%20incomplete%20information%22%26id_list%3D%26start%3D0%26max_results%3D10\" rel=\"self\" type=\"application/atom+xml\"/>\n",
      "  <title type=\"html\">ArXiv Query: search_query=ti:\"a fuzzy relation based extension of reggia s relational model for diagnosis handling uncertain and incomplete information\"&amp;id_list=&amp;start=0&amp;max_results=10</title>\n",
      "  <id>http://arxiv.org/api/PXrbZyibSelHRvRvmi/Q4uPuuyc</id>\n",
      "  <updated>2018-03-06T00:00:00-05:00</updated>\n",
      "  <opensearch:totalResults xmlns:opensearch=\"http://a9.com/-/spec/opensearch/1.1/\">0</opensearch:totalResults>\n",
      "  <opensearch:startIndex xmlns:opensearch=\"http://a9.com/-/spec/opensearch/1.1/\">0</opensearch:startIndex>\n",
      "  <opensearch:itemsPerPage xmlns:opensearch=\"http://a9.com/-/spec/opensearch/1.1/\">10</opensearch:itemsPerPage>\n",
      "</feed>\n",
      "\n",
      "\n",
      "<?xml version=\"1.0\" encoding=\"UTF-8\"?>\n",
      "<feed xmlns=\"http://www.w3.org/2005/Atom\">\n",
      "  <link href=\"http://arxiv.org/api/query?search_query%3Dti%3A%22possibilistic%20pertinence%20feedback%20and%20semantic%20networks%20for%20goal%20s%20extraction%22%26id_list%3D%26start%3D0%26max_results%3D10\" rel=\"self\" type=\"application/atom+xml\"/>\n",
      "  <title type=\"html\">ArXiv Query: search_query=ti:\"possibilistic pertinence feedback and semantic networks for goal s extraction\"&amp;id_list=&amp;start=0&amp;max_results=10</title>\n",
      "  <id>http://arxiv.org/api/lyVNOeIXm0WSOkUi3tetx3DBJpE</id>\n",
      "  <updated>2018-03-06T00:00:00-05:00</updated>\n",
      "  <opensearch:totalResults xmlns:opensearch=\"http://a9.com/-/spec/opensearch/1.1/\">0</opensearch:totalResults>\n",
      "  <opensearch:startIndex xmlns:opensearch=\"http://a9.com/-/spec/opensearch/1.1/\">0</opensearch:startIndex>\n",
      "  <opensearch:itemsPerPage xmlns:opensearch=\"http://a9.com/-/spec/opensearch/1.1/\">10</opensearch:itemsPerPage>\n",
      "</feed>\n",
      "\n",
      "\n",
      "<?xml version=\"1.0\" encoding=\"UTF-8\"?>\n",
      "<feed xmlns=\"http://www.w3.org/2005/Atom\">\n",
      "  <link href=\"http://arxiv.org/api/query?search_query%3Dti%3A%22relevance%20feedback%20for%20goal%20s%20extraction%20from%20fuzzy%20semantic%20networks%22%26id_list%3D%26start%3D0%26max_results%3D10\" rel=\"self\" type=\"application/atom+xml\"/>\n",
      "  <title type=\"html\">ArXiv Query: search_query=ti:\"relevance feedback for goal s extraction from fuzzy semantic networks\"&amp;id_list=&amp;start=0&amp;max_results=10</title>\n",
      "  <id>http://arxiv.org/api/N6vwW87PPpzYPGD9sR1h/VWNYv4</id>\n",
      "  <updated>2018-03-06T00:00:00-05:00</updated>\n",
      "  <opensearch:totalResults xmlns:opensearch=\"http://a9.com/-/spec/opensearch/1.1/\">0</opensearch:totalResults>\n",
      "  <opensearch:startIndex xmlns:opensearch=\"http://a9.com/-/spec/opensearch/1.1/\">0</opensearch:startIndex>\n",
      "  <opensearch:itemsPerPage xmlns:opensearch=\"http://a9.com/-/spec/opensearch/1.1/\">10</opensearch:itemsPerPage>\n",
      "</feed>\n",
      "\n",
      "\n",
      "<?xml version=\"1.0\" encoding=\"UTF-8\"?>\n",
      "<feed xmlns=\"http://www.w3.org/2005/Atom\">\n",
      "  <link href=\"http://arxiv.org/api/query?search_query%3Dti%3A%22a%20compact%20hierarchical%20q%20function%20decomposition%22%26id_list%3D%26start%3D0%26max_results%3D10\" rel=\"self\" type=\"application/atom+xml\"/>\n",
      "  <title type=\"html\">ArXiv Query: search_query=ti:\"a compact hierarchical q function decomposition\"&amp;id_list=&amp;start=0&amp;max_results=10</title>\n",
      "  <id>http://arxiv.org/api/mPyhLLPFNZX2p6nZGDpTmiXwzuA</id>\n",
      "  <updated>2018-03-06T00:00:00-05:00</updated>\n",
      "  <opensearch:totalResults xmlns:opensearch=\"http://a9.com/-/spec/opensearch/1.1/\">0</opensearch:totalResults>\n",
      "  <opensearch:startIndex xmlns:opensearch=\"http://a9.com/-/spec/opensearch/1.1/\">0</opensearch:startIndex>\n",
      "  <opensearch:itemsPerPage xmlns:opensearch=\"http://a9.com/-/spec/opensearch/1.1/\">10</opensearch:itemsPerPage>\n",
      "</feed>\n",
      "\n",
      "\n",
      "<?xml version=\"1.0\" encoding=\"UTF-8\"?>\n",
      "<feed xmlns=\"http://www.w3.org/2005/Atom\">\n",
      "  <link href=\"http://arxiv.org/api/query?search_query%3Dti%3A%22collaborative%20filtering%20by%20personality%20diagnosis%20a%20hybrid%20memory%20and%20model%20based%20approach%22%26id_list%3D%26start%3D0%26max_results%3D10\" rel=\"self\" type=\"application/atom+xml\"/>\n",
      "  <title type=\"html\">ArXiv Query: search_query=ti:\"collaborative filtering by personality diagnosis a hybrid memory and model based approach\"&amp;id_list=&amp;start=0&amp;max_results=10</title>\n",
      "  <id>http://arxiv.org/api/kuhFcOz68OTgYORRP1k3mwzz7SU</id>\n",
      "  <updated>2018-03-06T00:00:00-05:00</updated>\n",
      "  <opensearch:totalResults xmlns:opensearch=\"http://a9.com/-/spec/opensearch/1.1/\">0</opensearch:totalResults>\n",
      "  <opensearch:startIndex xmlns:opensearch=\"http://a9.com/-/spec/opensearch/1.1/\">0</opensearch:startIndex>\n",
      "  <opensearch:itemsPerPage xmlns:opensearch=\"http://a9.com/-/spec/opensearch/1.1/\">10</opensearch:itemsPerPage>\n",
      "</feed>\n",
      "\n",
      "\n",
      "<?xml version=\"1.0\" encoding=\"UTF-8\"?>\n",
      "<feed xmlns=\"http://www.w3.org/2005/Atom\">\n",
      "  <link href=\"http://arxiv.org/api/query?search_query%3Dti%3A%22laplace%20s%20method%20approximations%20for%20probabilistic%20inference%20in%20belief%20networks%20with%20continuous%20variables%22%26id_list%3D%26start%3D0%26max_results%3D10\" rel=\"self\" type=\"application/atom+xml\"/>\n",
      "  <title type=\"html\">ArXiv Query: search_query=ti:\"laplace s method approximations for probabilistic inference in belief networks with continuous variables\"&amp;id_list=&amp;start=0&amp;max_results=10</title>\n",
      "  <id>http://arxiv.org/api/OfPnlfc4XWnqh0JLpSY17dQ8O/U</id>\n",
      "  <updated>2018-03-06T00:00:00-05:00</updated>\n",
      "  <opensearch:totalResults xmlns:opensearch=\"http://a9.com/-/spec/opensearch/1.1/\">0</opensearch:totalResults>\n",
      "  <opensearch:startIndex xmlns:opensearch=\"http://a9.com/-/spec/opensearch/1.1/\">0</opensearch:startIndex>\n",
      "  <opensearch:itemsPerPage xmlns:opensearch=\"http://a9.com/-/spec/opensearch/1.1/\">10</opensearch:itemsPerPage>\n",
      "</feed>\n",
      "\n",
      "\n",
      "<?xml version=\"1.0\" encoding=\"UTF-8\"?>\n",
      "<feed xmlns=\"http://www.w3.org/2005/Atom\">\n",
      "  <link href=\"http://arxiv.org/api/query?search_query%3Dti%3A%22ct%20nor%20representing%20and%20reasoning%20about%20events%20in%20continuous%20time%22%26id_list%3D%26start%3D0%26max_results%3D10\" rel=\"self\" type=\"application/atom+xml\"/>\n",
      "  <title type=\"html\">ArXiv Query: search_query=ti:\"ct nor representing and reasoning about events in continuous time\"&amp;id_list=&amp;start=0&amp;max_results=10</title>\n",
      "  <id>http://arxiv.org/api/25FQ8si+cm+lfNcX/f+K4DYn3oA</id>\n",
      "  <updated>2018-03-06T00:00:00-05:00</updated>\n",
      "  <opensearch:totalResults xmlns:opensearch=\"http://a9.com/-/spec/opensearch/1.1/\">0</opensearch:totalResults>\n",
      "  <opensearch:startIndex xmlns:opensearch=\"http://a9.com/-/spec/opensearch/1.1/\">0</opensearch:startIndex>\n",
      "  <opensearch:itemsPerPage xmlns:opensearch=\"http://a9.com/-/spec/opensearch/1.1/\">10</opensearch:itemsPerPage>\n",
      "</feed>\n",
      "\n",
      "\n",
      "<?xml version=\"1.0\" encoding=\"UTF-8\"?>\n",
      "<feed xmlns=\"http://www.w3.org/2005/Atom\">\n",
      "  <link href=\"http://arxiv.org/api/query?search_query%3Dti%3A%22convergent%20message%20passing%20algorithms%20a%20unifying%20view%22%26id_list%3D%26start%3D0%26max_results%3D10\" rel=\"self\" type=\"application/atom+xml\"/>\n",
      "  <title type=\"html\">ArXiv Query: search_query=ti:\"convergent message passing algorithms a unifying view\"&amp;id_list=&amp;start=0&amp;max_results=10</title>\n",
      "  <id>http://arxiv.org/api/DTeSuQlBrSHk/1JmdwCUWSgWBHI</id>\n",
      "  <updated>2018-03-06T00:00:00-05:00</updated>\n",
      "  <opensearch:totalResults xmlns:opensearch=\"http://a9.com/-/spec/opensearch/1.1/\">0</opensearch:totalResults>\n",
      "  <opensearch:startIndex xmlns:opensearch=\"http://a9.com/-/spec/opensearch/1.1/\">0</opensearch:startIndex>\n",
      "  <opensearch:itemsPerPage xmlns:opensearch=\"http://a9.com/-/spec/opensearch/1.1/\">10</opensearch:itemsPerPage>\n",
      "</feed>\n",
      "\n",
      "\n",
      "<?xml version=\"1.0\" encoding=\"UTF-8\"?>\n",
      "<feed xmlns=\"http://www.w3.org/2005/Atom\">\n",
      "  <link href=\"http://arxiv.org/api/query?search_query%3Dti%3A%22local%20structure%20correlations%20in%20plastic%20cyclohexane%20a%20reverse%20monte%20carlo%20study%22%26id_list%3D%26start%3D0%26max_results%3D10\" rel=\"self\" type=\"application/atom+xml\"/>\n",
      "  <title type=\"html\">ArXiv Query: search_query=ti:\"local structure correlations in plastic cyclohexane a reverse monte carlo study\"&amp;id_list=&amp;start=0&amp;max_results=10</title>\n",
      "  <id>http://arxiv.org/api/368Z77MNfaqvVP5wPMtIRhvr+98</id>\n",
      "  <updated>2018-03-06T00:00:00-05:00</updated>\n",
      "  <opensearch:totalResults xmlns:opensearch=\"http://a9.com/-/spec/opensearch/1.1/\">0</opensearch:totalResults>\n",
      "  <opensearch:startIndex xmlns:opensearch=\"http://a9.com/-/spec/opensearch/1.1/\">0</opensearch:startIndex>\n",
      "  <opensearch:itemsPerPage xmlns:opensearch=\"http://a9.com/-/spec/opensearch/1.1/\">10</opensearch:itemsPerPage>\n",
      "</feed>\n",
      "\n",
      "\n"
     ]
    }
   ],
   "source": [
    "# ids.to_csv('testing_ids.csv',header=True,index=False,sep=';')\n",
    "# ids.head()\n",
    "\n",
    "print(ids.loc[46,'id'])\n",
    "print()\n",
    "print(ids.loc[122,'id'])\n",
    "print()\n",
    "print(ids.loc[146,'id'])\n",
    "print()\n",
    "print(ids.loc[158,'id'])\n",
    "print()\n",
    "print(ids.loc[164,'id'])\n",
    "print()\n",
    "print(ids.loc[180,'id'])\n",
    "print()\n",
    "print(ids.loc[186,'id'])\n",
    "print()\n",
    "print(ids.loc[201,'id'])\n",
    "print()\n",
    "print(ids.loc[286,'id'])\n",
    "print()\n",
    "print(ids.loc[290,'id'])\n",
    "print()\n",
    "print(ids.loc[388,'id'])\n",
    "print()\n",
    "print(ids.loc[390,'id'])\n",
    "print()\n",
    "print(ids.loc[428,'id'])\n",
    "print()"
   ]
  },
  {
   "cell_type": "code",
   "execution_count": 143,
   "metadata": {},
   "outputs": [
    {
     "name": "stdout",
     "output_type": "stream",
     "text": [
      "http://arxiv.org/abs/1303.1502v1\n"
     ]
    },
    {
     "data": {
      "text/plain": [
       "['Incrementalcomputationofthevalueofperfectinformationinstepwisedecomposableinfluencediagrams']"
      ]
     },
     "execution_count": 143,
     "metadata": {},
     "output_type": "execute_result"
    }
   ],
   "source": [
    "#p = BeautifulSoup(r.text,\"lxml-xml\")\n",
    "p = BeautifulSoup(ids.loc[19,'id'],\"xml\")\n",
    "title = ids.loc[19,'title']\n",
    "regex = re.compile('[^\\w]')\n",
    "t = None\n",
    "for e in p.findAll('entry'):\n",
    "    if regex.sub('',e.title.text) == regex.sub('',title):\n",
    "        t = e.id.text\n",
    "        break\n",
    "print(t)        \n",
    "[regex.sub('',e.title.text) for e in p.findAll('entry')]"
   ]
  },
  {
   "cell_type": "code",
   "execution_count": 137,
   "metadata": {},
   "outputs": [
    {
     "data": {
      "text/plain": [
       "'Incremental computation of the value of perfect information in stepwise-decomposable influence diagrams'"
      ]
     },
     "execution_count": 137,
     "metadata": {},
     "output_type": "execute_result"
    }
   ],
   "source": [
    "title"
   ]
  },
  {
   "cell_type": "code",
   "execution_count": 120,
   "metadata": {
    "collapsed": true
   },
   "outputs": [],
   "source": [
    "def f(x):\n",
    "    sleep(np.random.random_sample()*5) \n",
    "    return searchArxiv(x)\n",
    "sndChance = ids[ids.id.str.startswith('\\n\\n')].title.apply(f)"
   ]
  },
  {
   "cell_type": "code",
   "execution_count": 64,
   "metadata": {},
   "outputs": [
    {
     "data": {
      "text/plain": [
       "'The Computational Complexity of Dominance and Consistency in CP-Nets'"
      ]
     },
     "execution_count": 64,
     "metadata": {},
     "output_type": "execute_result"
    }
   ],
   "source": [
    "ids.title[2]"
   ]
  },
  {
   "cell_type": "code",
   "execution_count": 77,
   "metadata": {},
   "outputs": [
    {
     "data": {
      "text/plain": [
       "[]"
      ]
     },
     "execution_count": 77,
     "metadata": {},
     "output_type": "execute_result"
    }
   ],
   "source": [
    "titles = []\n",
    "for i in BeautifulSoup(sndChance.iloc[1,0],\"lxml-xml\").findAll('entry'):\n",
    "    titles.append(i)\n",
    "titles    "
   ]
  },
  {
   "cell_type": "code",
   "execution_count": 63,
   "metadata": {},
   "outputs": [
    {
     "data": {
      "text/plain": [
       "\"<html>\\n <body>\\n  <p>\\n   ArXiv Query: search_query=ti:The Computational Complexity of Dominance and Consistency in CP-Nets&amp;id_list=&amp;start=0&amp;max_results=10\\nhttp://arxiv.org/api/s+Mb7xTAclMZJF5uqTkWqpjmW4o\\n2017-12-01T00:00:00-05:00\\n1332058\\n0\\n10\\n\\nhttp://arxiv.org/abs/1107.0023v1\\n2011-06-30T20:32:52Z\\n2011-06-30T20:32:52Z\\nCP-nets: A Tool for Representing and Reasoning withConditional Ceteris\\n  Paribus Preference Statements\\n  Information about user preferences plays a key role in automated decision\\nmaking. In many domains it is desirable to assess such preferences in a\\nqualitative rather than quantitative way. In this paper, we propose a\\nqualitative graphical representation of preferences that reflects conditional\\ndependence and independence of preference statements under a ceteris paribus\\n(all else being equal) interpretation. Such a representation is often compact\\nand arguably quite natural in many circumstances. We provide a formal semantics\\nfor this model, and describe how the structure of the network can be exploited\\nin several inference tasks, such as determining whether one outcome dominates\\n(is preferred to) another, ordering a set outcomes according to the preference\\nrelation, and constructing the best outcome subject to available evidence.\\n\\n\\nC. Boutilier\\n\\n\\nR. I. Brafman\\n\\n\\nC. Domshlak\\n\\n\\nH. H. Hoos\\n\\n\\nD. Poole\\n\\n10.1613/jair.1234\\n\\nJournal Of Artificial Intelligence Research, Volume 21, pages\\n  135-191, 2004\\n\\n\\n\\n\\n\\n\\nhttp://arxiv.org/abs/1401.3453v1\\n2014-01-15T05:13:25Z\\n2014-01-15T05:13:25Z\\nThe Computational Complexity of Dominance and Consistency in CP-Nets\\n  We investigate the computational complexity of testing dominance and\\nconsistency in CP-nets. Previously, the complexity of dominance has been\\ndetermined for restricted classes in which the dependency graph of the CP-net\\nis acyclic. However, there are preferences of interest that define cyclic\\ndependency graphs; these are modeled with general CP-nets. In our main results,\\nwe show here that both dominance and consistency for general CP-nets are\\nPSPACE-complete. We then consider the concept of strong dominance, dominance\\nequivalence and dominance incomparability, and several notions of optimality,\\nand identify the complexity of the corresponding decision problems. The\\nreductions used in the proofs are from STRIPS planning, and thus reinforce the\\nearlier established connections between both areas.\\n\\n\\nJudy Goldsmith\\n\\n\\nJerome Lang\\n\\n\\nMiroslaw Truszczyski\\n\\n\\nNic Wilson\\n\\n10.1613/jair.2627\\n\\nJournal Of Artificial Intelligence Research, Volume 33, pages\\n  403-432, 2008\\n\\n\\n\\n\\n\\n\\nhttp://arxiv.org/abs/0910.5107v2\\n2010-01-20T12:12:28Z\\n2009-10-27T12:40:17Z\\nThe Complexity of Iterated Strategy Elimination\\n  We consider the computational complexity of the question whether a certain\\nstrategy can be removed from a game by means of iterated elimination of\\ndominated strategies. In particular, we study the influence of different\\ndefinitions of domination and of the number of different payoff values. In\\naddition, the consequence of restriction to constant-sum games is shown.\\n\\n\\nArno Pauly\\n\\n\\n\\n\\n\\n\\n\\n\\n\\nhttp://arxiv.org/abs/1709.05182v1\\n2017-09-15T13:03:48Z\\n2017-09-15T13:03:48Z\\nThe Dominating Set Problem in Geometric Intersection Graphs\\n  We study the parameterized complexity of dominating sets in geometric\\nintersection graphs. In one dimension, we investigate intersection graphs\\ninduced by translates of a fixed pattern Q that consists of a finite number of\\nintervals and a finite number of isolated points. We prove that Dominating Set\\non such intersection graphs is polynomially solvable whenever Q contains at\\nleast one interval, and whenever Q contains no intervals and for any two point\\npairs in Q the distance ratio is rational. The remaining case where Q contains\\nno intervals but does contain an irrational distance ratio is shown to be\\nNP-complete and contained in FPT (when parameterized by the solution size). In\\ntwo and higher dimensions, we prove that Dominating Set is contained in W[1]\\nfor intersection graphs of semi-algebraic sets with constant description\\ncomplexity. This generalizes known results from the literature. Finally, we\\nestablish W[1]-hardness for a large class of intersection graphs.\\n\\n\\nMark de Berg\\n\\n\\nSándor Kisfaludi-Bak\\n\\n\\nGerhard Woeginger\\n\\n19 pages. Preliminary version appears in the proceedings of IPEC 2017\\n\\n\\n\\n\\n\\n\\n\\nhttp://arxiv.org/abs/1711.00148v1\\n2017-11-01T00:16:25Z\\n2017-11-01T00:16:25Z\\nComputing the Lusztig--Vogan Bijection\\n  Let $G$ be a connected complex reductive algebraic group with Lie algebra\\n$\\\\mathfrak{g}$. The Lusztig--Vogan bijection relates two bases for the bounded\\nderived category of $G$-equivariant coherent sheaves on the nilpotent cone\\n$\\\\mathcal{N}$ of $\\\\mathfrak{g}$. One basis is indexed by $\\\\Lambda^+$, the set\\nof dominant weights of $G$, and the other by $\\\\Omega$, the set of pairs\\n$(\\\\mathcal{O}, \\\\mathcal{E})$ consisting of a nilpotent orbit $\\\\mathcal{O}\\n\\\\subset \\\\mathcal{N}$ and an irreducible $G$-equivariant vector bundle\\n$\\\\mathcal{E} \\\\rightarrow \\\\mathcal{O}$. The existence of the Lusztig--Vogan\\nbijection $\\\\gamma \\\\colon \\\\Omega \\\\rightarrow \\\\Lambda^+$ was proven by\\nBezrukavnikov, and an algorithm computing $\\\\gamma$ in type $A$ was given by\\nAchar. Herein we present a combinatorial description of $\\\\gamma$ in type $A$\\nthat subsumes and dramatically simplifies Achar's algorithm.\\n\\n\\nDavid B Rush\\n\\n59 pages\\n\\n\\n\\n\\n\\n\\n\\nhttp://arxiv.org/abs/astro-ph/9912419v1\\n1999-12-20T13:36:32Z\\n1999-12-20T13:36:32Z\\nThe role of advection in the accreting corona model for active galactic\\n  nuclei and Galactic black holes\\n  We consider the role of advection in the two-temperature accreting corona\\nwith an underlying optically thick disc. The properties of coronal solutions\\ndepend significantly on the description of advection. Local parameterization of\\nadvection by a constant coeficient $\\\\delta$ replacing the radial derivatives\\nlead to complex topology of solutions, similar to some extent to other\\nadvection-dominated accretion flow solutions. One, radiatively cooled branch\\nexists for low accertion rates. For higher accretion rates two solutions exist\\nin a broad range of radii: one is radiatively cooled and the other one is\\nadvection-dominated. With further increase of accretion rate the radial\\nextensions of the two solutions shrink and no solutions are found above certain\\ncritical value. However, these trends change if the local parameterization of\\nadvection is replaced by proper radial derivatives computed iteratively from\\nthe model. Only one, radiatively cooled solution remains, and it exists even\\nfor high accretion rates. The advection-dominated branch disappears during the\\niteration process which means that a self-consistently described\\nadvection-dominated flow cannot exist in the presence of an underlying cold\\ndisc.\\n\\n\\nAgnieszka Janiuk\\n\\n\\nPiotr T. Zycki\\n\\n\\nBozena Czerny\\n\\n10.1046/j.1365-8711.2000.03312.x\\n\\n12 pages, 8 figures, accepted to MNRAS\\n\\n\\n\\n\\n\\n\\nhttp://arxiv.org/abs/1701.05886v4\\n2017-08-18T07:55:04Z\\n2017-01-20T18:38:46Z\\nCharacterizations of minimal dominating sets and the well-dominated\\n  property in lexicographic product graphs\\n  A graph is said to be well-dominated if all its minimal dominating sets are\\nof the same size. The class of well-dominated graphs forms a subclass of the\\nwell studied class of well-covered graphs. While the recognition problem for\\nthe class of well-covered graphs is known to be co-NP-complete, the recognition\\ncomplexity of well-dominated graphs is open.\\n  In this paper we introduce the notion of an irreducible dominating set, a\\nvariant of dominating set generalizing both minimal dominating sets and minimal\\ntotal dominating sets. Based on this notion, we characterize the family of\\nminimal dominating sets in a lexicographic product of two graphs and derive a\\ncharacterization of the well-dominated lexicographic product graphs. As a side\\nresult motivated by this study, we give a polynomially testable\\ncharacterization of well-dominated graphs with domination number two, and show,\\nmore generally, that well-dominated graphs can be recognized in polynomial time\\nin any class of graphs with bounded domination number. Our results include a\\ncharacterization of dominating sets in lexicographic product graphs, which\\ngeneralizes the expression for the domination number of such graphs following\\nfrom works of Zhang et al. (2011) and of \\\\v{S}umenjak et al. (2012).\\n\\n\\nDidem Gözüpek\\n\\n\\nAdemir Hujdurović\\n\\n\\nMartin Milanič\\n\\nDiscrete Mathematics &amp; Theoretical Computer Science, Vol 19 no. 1,\\n  Graph Theory (August 30, 2017) dmtcs:3865\\n\\n\\n\\n\\n\\n\\n\\nhttp://arxiv.org/abs/1604.08944v1\\n2016-04-29T19:42:38Z\\n2016-04-29T19:42:38Z\\nOn the Complexity of Solving Zero-Dimensional Polynomial Systems via\\n  Projection\\n  Given a zero-dimensional polynomial system consisting of n integer\\npolynomials in n variables, we propose a certified and complete method to\\ncompute all complex solutions of the system as well as a corresponding\\nseparating linear form l with coefficients of small bit size. For computing l,\\nwe need to project the solutions into one dimension along O(n) distinct\\ndirections but no further algebraic manipulations. The solutions are then\\ndirectly reconstructed from the considered projections. The first step is\\ndeterministic, whereas the second step uses randomization, thus being\\nLas-Vegas.\\n  The theoretical analysis of our approach shows that the overall cost for the\\ntwo problems considered above is dominated by the cost of carrying out the\\nprojections. We also give bounds on the bit complexity of our algorithms that\\nare exclusively stated in terms of the number of variables, the total degree\\nand the bitsize of the input polynomials.\\n\\n\\nCornelius Brand\\n\\n\\nMichael Sagraloff\\n\\n\\n\\n\\n\\n\\n\\n\\nhttp://arxiv.org/abs/math/0508186v1\\n2005-08-10T16:10:59Z\\n2005-08-10T16:10:59Z\\nStructure of the tensor product semigroup\\n  We study structure of the semigroup Tens(G) consisting of triples of dominant\\nweights (\\\\lambda,\\\\mu,\\\\nu) of a complex reductive Lie group G such that the\\ntriple tensor product of the corresponding irreducible representations of G has\\na nonzero G-invariant vector. We prove two general structural results for\\nTens(G) and give an explicit computation of Tens(G) for G=Sp(4,C) and G=G_2.\\n\\n\\nMichael Kapovich\\n\\n\\nJohn J. Millson\\n\\n46 pages\\n\\n\\n\\n\\n\\n\\n\\nhttp://arxiv.org/abs/1410.4607v2\\n2015-02-05T07:10:39Z\\n2014-10-16T23:57:04Z\\nStatistical Mechanics of the Minimum Dominating Set Problem\\n  The minimum dominating set problem has wide applications in network science\\nand related fields. It consists of assembling a node set of global minimum size\\nsuch that any node of the network is either in this set or is adjacent to at\\nleast one node of this set. Although this is a difficult optimization problem\\nin general, we show it can be exactly solved by a generalized leaf-removal\\nprocess if the network contains no core. If the network has an extensive core,\\nwe estimate the size of minimum dominating sets by a mean-field theory and\\nimplement a belief-propagation algorithm to obtain near-optimal solutions. Our\\nalgorithms also perform well on real-world network instances.\\n\\n\\nJin-Hua Zhao\\n\\n\\nYusupjan Habibulla\\n\\n\\nHai-Jun Zhou\\n\\n10.1007/s10955-015-1220-2\\n\\nExtensively revised (final version to be published in Journal of\\n  Statistical Physics). 19 pages in total\\nJournal of Statistical Physics 159: 1154--1174 (2015)\\n  </p>\\n </body>\\n</html>\""
      ]
     },
     "execution_count": 63,
     "metadata": {},
     "output_type": "execute_result"
    }
   ],
   "source": [
    "BeautifulSoup(sndChance.iloc[1,0],\"lxml\").prettify()"
   ]
  },
  {
   "cell_type": "code",
   "execution_count": 100,
   "metadata": {},
   "outputs": [
    {
     "data": {
      "text/plain": [
       "['Incremental computation of the value of perfect information in\\n  stepwise-decomposable influence diagrams',\n",
       " 'Incremental Voronoi Diagrams',\n",
       " 'Incremental QBF Solving',\n",
       " 'Incremental Truncated LSTD',\n",
       " 'Strongly Incremental Repair Detection',\n",
       " 'Demand-Driven Incremental Object Queries',\n",
       " 'Enabling Incremental Query Re-Optimization',\n",
       " 'Incremental Versus Optimized Network Design',\n",
       " 'Langevin Incremental Mixture Importance Sampling',\n",
       " 'Fast Incremental and Personalized PageRank']"
      ]
     },
     "execution_count": 100,
     "metadata": {},
     "output_type": "execute_result"
    }
   ],
   "source": [
    "[a.title.text for a in BeautifulSoup(sndChance.iloc[6,0],'xml').findAll('entry')]"
   ]
  },
  {
   "cell_type": "code",
   "execution_count": 101,
   "metadata": {},
   "outputs": [
    {
     "data": {
      "text/plain": [
       "'Order-of-Magnitude Influence Diagrams'"
      ]
     },
     "execution_count": 101,
     "metadata": {},
     "output_type": "execute_result"
    }
   ],
   "source": [
    "sndChance.title[6]"
   ]
  },
  {
   "cell_type": "code",
   "execution_count": 130,
   "metadata": {
    "collapsed": true
   },
   "outputs": [],
   "source": [
    "ids.loc[sndChance.id.index,'id'] = sndChance.id"
   ]
  },
  {
   "cell_type": "code",
   "execution_count": 117,
   "metadata": {
    "collapsed": true
   },
   "outputs": [],
   "source": [
    "a= re.sub(\"[^0-9a-zA-Z]+\",'+',sndChance.iloc[2,1])"
   ]
  },
  {
   "cell_type": "code",
   "execution_count": 135,
   "metadata": {},
   "outputs": [
    {
     "data": {
      "text/plain": [
       "'Incremental computation of the value of perfect information in stepwise-decomposable influence diagrams'"
      ]
     },
     "execution_count": 135,
     "metadata": {},
     "output_type": "execute_result"
    }
   ],
   "source": [
    "ids.loc[19,'title']"
   ]
  },
  {
   "cell_type": "code",
   "execution_count": 133,
   "metadata": {},
   "outputs": [
    {
     "data": {
      "text/plain": [
       "'<?xml version=\"1.0\" encoding=\"UTF-8\"?>\\n<feed xmlns=\"http://www.w3.org/2005/Atom\">\\n  <link href=\"http://arxiv.org/api/query?search_query%3Dti%3A%22incremental%20computation%20of%20the%20value%20of%20perfect%20information%20in%20stepwise%20decomposable%20influence%20diagrams%22%26id_list%3D%26start%3D0%26max_results%3D10\" rel=\"self\" type=\"application/atom+xml\"/>\\n  <title type=\"html\">ArXiv Query: search_query=ti:\"incremental computation of the value of perfect information in stepwise decomposable influence diagrams\"&amp;id_list=&amp;start=0&amp;max_results=10</title>\\n  <id>http://arxiv.org/api/+aXvsYne6VftFvDazxu9kaRbpRs</id>\\n  <updated>2017-12-01T00:00:00-05:00</updated>\\n  <opensearch:totalResults xmlns:opensearch=\"http://a9.com/-/spec/opensearch/1.1/\">1</opensearch:totalResults>\\n  <opensearch:startIndex xmlns:opensearch=\"http://a9.com/-/spec/opensearch/1.1/\">0</opensearch:startIndex>\\n  <opensearch:itemsPerPage xmlns:opensearch=\"http://a9.com/-/spec/opensearch/1.1/\">10</opensearch:itemsPerPage>\\n  <entry>\\n    <id>http://arxiv.org/abs/1303.1502v1</id>\\n    <updated>2013-03-06T14:22:59Z</updated>\\n    <published>2013-03-06T14:22:59Z</published>\\n    <title>Incremental computation of the value of perfect information in\\n  stepwise-decomposable influence diagrams</title>\\n    <summary>  To determine the value of perfect information in an influence diagram, one\\nneeds first to modify the diagram to reflect the change in information\\navailability, and then to compute the optimal expected values of both the\\noriginal diagram and the modified diagram. The value of perfect information is\\nthe difference between the two optimal expected values. This paper is about how\\nto speed up the computation of the optimal expected value of the modified\\ndiagram by making use of the intermediate computation results obtained when\\ncomputing the optimal expected value of the original diagram.\\n</summary>\\n    <author>\\n      <name>Nevin Lianwen Zhang</name>\\n    </author>\\n    <author>\\n      <name>Runping Qi</name>\\n    </author>\\n    <author>\\n      <name>David L. Poole</name>\\n    </author>\\n    <arxiv:comment xmlns:arxiv=\"http://arxiv.org/schemas/atom\">Appears in Proceedings of the Ninth Conference on Uncertainty in\\n  Artificial Intelligence (UAI1993)</arxiv:comment>\\n    <link href=\"http://arxiv.org/abs/1303.1502v1\" rel=\"alternate\" type=\"text/html\"/>\\n    <link title=\"pdf\" href=\"http://arxiv.org/pdf/1303.1502v1\" rel=\"related\" type=\"application/pdf\"/>\\n    <arxiv:primary_category xmlns:arxiv=\"http://arxiv.org/schemas/atom\" term=\"cs.AI\" scheme=\"http://arxiv.org/schemas/atom\"/>\\n    <category term=\"cs.AI\" scheme=\"http://arxiv.org/schemas/atom\"/>\\n  </entry>\\n</feed>\\n'"
      ]
     },
     "execution_count": 133,
     "metadata": {},
     "output_type": "execute_result"
    }
   ],
   "source": [
    "BeautifulSoup(ids.loc[19,'id'],\"xml\")"
   ]
  },
  {
   "cell_type": "code",
   "execution_count": 144,
   "metadata": {
    "collapsed": true
   },
   "outputs": [],
   "source": [
    "b = sndChance.copy()"
   ]
  },
  {
   "cell_type": "code",
   "execution_count": 147,
   "metadata": {
    "collapsed": true
   },
   "outputs": [],
   "source": [
    "def parse(x):\n",
    "    parser = BeautifulSoup(x.id,\"xml\")\n",
    "    regex = re.compile('[^\\w]')\n",
    "    ret = pd.Series({'title':x.title,'id':x.id})\n",
    "    for e in parser.findAll('entry'):\n",
    "        if regex.sub('',e.title.text).lower() == regex.sub('',x.title).lower():\n",
    "            ret = pd.Series({'title':e.title.text,'id':e.id.text.replace(\"http://arxiv.org/abs/\",\"\")})\n",
    "            break        \n",
    "    return ret\n",
    "ids.loc[sndChance.id.index,'id'] = sndChance.apply(parse,axis=1).id"
   ]
  },
  {
   "cell_type": "code",
   "execution_count": 203,
   "metadata": {},
   "outputs": [
    {
     "data": {
      "text/html": [
       "<div>\n",
       "<style scoped>\n",
       "    .dataframe tbody tr th:only-of-type {\n",
       "        vertical-align: middle;\n",
       "    }\n",
       "\n",
       "    .dataframe tbody tr th {\n",
       "        vertical-align: top;\n",
       "    }\n",
       "\n",
       "    .dataframe thead th {\n",
       "        text-align: right;\n",
       "    }\n",
       "</style>\n",
       "<table border=\"1\" class=\"dataframe\">\n",
       "  <thead>\n",
       "    <tr style=\"text-align: right;\">\n",
       "      <th></th>\n",
       "      <th>id</th>\n",
       "      <th>title</th>\n",
       "    </tr>\n",
       "  </thead>\n",
       "  <tbody>\n",
       "    <tr>\n",
       "      <th>3</th>\n",
       "      <td>&lt;?xml version=\"1.0\" encoding=\"UTF-8\"?&gt;\\n&lt;feed ...</td>\n",
       "      <td>The Assumptions Behind Dempster's Rule</td>\n",
       "    </tr>\n",
       "    <tr>\n",
       "      <th>79</th>\n",
       "      <td>&lt;?xml version=\"1.0\" encoding=\"UTF-8\"?&gt;\\n&lt;feed ...</td>\n",
       "      <td>The simplest mixed finite element method for l...</td>\n",
       "    </tr>\n",
       "    <tr>\n",
       "      <th>87</th>\n",
       "      <td>&lt;?xml version=\"1.0\" encoding=\"UTF-8\"?&gt;\\n&lt;feed ...</td>\n",
       "      <td>Seminormal forms and cyclotomic quiver Hecke a...</td>\n",
       "    </tr>\n",
       "    <tr>\n",
       "      <th>151</th>\n",
       "      <td>&lt;?xml version=\"1.0\" encoding=\"UTF-8\"?&gt;\\n&lt;feed ...</td>\n",
       "      <td>UCP-Networks: A Directed Graphical Representat...</td>\n",
       "    </tr>\n",
       "    <tr>\n",
       "      <th>198</th>\n",
       "      <td>&lt;?xml version=\"1.0\" encoding=\"UTF-8\"?&gt;\\n&lt;feed ...</td>\n",
       "      <td>Causes and Explanations: A Structural-Model Ap...</td>\n",
       "    </tr>\n",
       "    <tr>\n",
       "      <th>223</th>\n",
       "      <td>&lt;?xml version=\"1.0\" encoding=\"UTF-8\"?&gt;\\n&lt;feed ...</td>\n",
       "      <td>Newton methods for k-order Markov Constrained ...</td>\n",
       "    </tr>\n",
       "    <tr>\n",
       "      <th>229</th>\n",
       "      <td>&lt;?xml version=\"1.0\" encoding=\"UTF-8\"?&gt;\\n&lt;feed ...</td>\n",
       "      <td>Etude de Modeles a base de reseaux Bayesiens p...</td>\n",
       "    </tr>\n",
       "    <tr>\n",
       "      <th>241</th>\n",
       "      <td>&lt;?xml version=\"1.0\" encoding=\"UTF-8\"?&gt;\\n&lt;feed ...</td>\n",
       "      <td>A fuzzy relation-based extension of Reggia's r...</td>\n",
       "    </tr>\n",
       "    <tr>\n",
       "      <th>256</th>\n",
       "      <td>&lt;?xml version=\"1.0\" encoding=\"UTF-8\"?&gt;\\n&lt;feed ...</td>\n",
       "      <td>Possibilistic Pertinence Feedback and Semantic...</td>\n",
       "    </tr>\n",
       "    <tr>\n",
       "      <th>262</th>\n",
       "      <td>&lt;?xml version=\"1.0\" encoding=\"UTF-8\"?&gt;\\n&lt;feed ...</td>\n",
       "      <td>Relevance Feedback for Goal's Extraction from ...</td>\n",
       "    </tr>\n",
       "    <tr>\n",
       "      <th>280</th>\n",
       "      <td>&lt;?xml version=\"1.0\" encoding=\"UTF-8\"?&gt;\\n&lt;feed ...</td>\n",
       "      <td>A compact, hierarchical Q-function decomposition</td>\n",
       "    </tr>\n",
       "    <tr>\n",
       "      <th>375</th>\n",
       "      <td>&lt;?xml version=\"1.0\" encoding=\"UTF-8\"?&gt;\\n&lt;feed ...</td>\n",
       "      <td>Efficient programmable learning to search</td>\n",
       "    </tr>\n",
       "    <tr>\n",
       "      <th>391</th>\n",
       "      <td>&lt;?xml version=\"1.0\" encoding=\"UTF-8\"?&gt;\\n&lt;feed ...</td>\n",
       "      <td>Laplace's Method Approximations for Probabilis...</td>\n",
       "    </tr>\n",
       "    <tr>\n",
       "      <th>424</th>\n",
       "      <td>&lt;?xml version=\"1.0\" encoding=\"UTF-8\"?&gt;\\n&lt;feed ...</td>\n",
       "      <td>Collaborative Filtering by Personality Diagnos...</td>\n",
       "    </tr>\n",
       "    <tr>\n",
       "      <th>478</th>\n",
       "      <td>&lt;?xml version=\"1.0\" encoding=\"UTF-8\"?&gt;\\n&lt;feed ...</td>\n",
       "      <td>CT-NOR: Representing and Reasoning About Event...</td>\n",
       "    </tr>\n",
       "    <tr>\n",
       "      <th>479</th>\n",
       "      <td>&lt;?xml version=\"1.0\" encoding=\"UTF-8\"?&gt;\\n&lt;feed ...</td>\n",
       "      <td>Bayesian Model Averaging Using the k-best Baye...</td>\n",
       "    </tr>\n",
       "    <tr>\n",
       "      <th>491</th>\n",
       "      <td>&lt;?xml version=\"1.0\" encoding=\"UTF-8\"?&gt;\\n&lt;feed ...</td>\n",
       "      <td>Convergent message passing algorithms - a unif...</td>\n",
       "    </tr>\n",
       "    <tr>\n",
       "      <th>534</th>\n",
       "      <td>&lt;?xml version=\"1.0\" encoding=\"UTF-8\"?&gt;\\n&lt;feed ...</td>\n",
       "      <td>Local structure correlations in plastic cycloh...</td>\n",
       "    </tr>\n",
       "  </tbody>\n",
       "</table>\n",
       "</div>"
      ],
      "text/plain": [
       "                                                    id  \\\n",
       "3    <?xml version=\"1.0\" encoding=\"UTF-8\"?>\\n<feed ...   \n",
       "79   <?xml version=\"1.0\" encoding=\"UTF-8\"?>\\n<feed ...   \n",
       "87   <?xml version=\"1.0\" encoding=\"UTF-8\"?>\\n<feed ...   \n",
       "151  <?xml version=\"1.0\" encoding=\"UTF-8\"?>\\n<feed ...   \n",
       "198  <?xml version=\"1.0\" encoding=\"UTF-8\"?>\\n<feed ...   \n",
       "223  <?xml version=\"1.0\" encoding=\"UTF-8\"?>\\n<feed ...   \n",
       "229  <?xml version=\"1.0\" encoding=\"UTF-8\"?>\\n<feed ...   \n",
       "241  <?xml version=\"1.0\" encoding=\"UTF-8\"?>\\n<feed ...   \n",
       "256  <?xml version=\"1.0\" encoding=\"UTF-8\"?>\\n<feed ...   \n",
       "262  <?xml version=\"1.0\" encoding=\"UTF-8\"?>\\n<feed ...   \n",
       "280  <?xml version=\"1.0\" encoding=\"UTF-8\"?>\\n<feed ...   \n",
       "375  <?xml version=\"1.0\" encoding=\"UTF-8\"?>\\n<feed ...   \n",
       "391  <?xml version=\"1.0\" encoding=\"UTF-8\"?>\\n<feed ...   \n",
       "424  <?xml version=\"1.0\" encoding=\"UTF-8\"?>\\n<feed ...   \n",
       "478  <?xml version=\"1.0\" encoding=\"UTF-8\"?>\\n<feed ...   \n",
       "479  <?xml version=\"1.0\" encoding=\"UTF-8\"?>\\n<feed ...   \n",
       "491  <?xml version=\"1.0\" encoding=\"UTF-8\"?>\\n<feed ...   \n",
       "534  <?xml version=\"1.0\" encoding=\"UTF-8\"?>\\n<feed ...   \n",
       "\n",
       "                                                 title  \n",
       "3               The Assumptions Behind Dempster's Rule  \n",
       "79   The simplest mixed finite element method for l...  \n",
       "87   Seminormal forms and cyclotomic quiver Hecke a...  \n",
       "151  UCP-Networks: A Directed Graphical Representat...  \n",
       "198  Causes and Explanations: A Structural-Model Ap...  \n",
       "223  Newton methods for k-order Markov Constrained ...  \n",
       "229  Etude de Modeles a base de reseaux Bayesiens p...  \n",
       "241  A fuzzy relation-based extension of Reggia's r...  \n",
       "256  Possibilistic Pertinence Feedback and Semantic...  \n",
       "262  Relevance Feedback for Goal's Extraction from ...  \n",
       "280   A compact, hierarchical Q-function decomposition  \n",
       "375          Efficient programmable learning to search  \n",
       "391  Laplace's Method Approximations for Probabilis...  \n",
       "424  Collaborative Filtering by Personality Diagnos...  \n",
       "478  CT-NOR: Representing and Reasoning About Event...  \n",
       "479  Bayesian Model Averaging Using the k-best Baye...  \n",
       "491  Convergent message passing algorithms - a unif...  \n",
       "534  Local structure correlations in plastic cycloh...  "
      ]
     },
     "execution_count": 203,
     "metadata": {},
     "output_type": "execute_result"
    }
   ],
   "source": [
    "ids[ids.id.apply(lambda x: re.match('^\\d',x) is None)]"
   ]
  },
  {
   "cell_type": "markdown",
   "metadata": {},
   "source": [
    "Preenchendo à mão os valores dos artigos não encontrados."
   ]
  },
  {
   "cell_type": "code",
   "execution_count": 16,
   "metadata": {
    "collapsed": true
   },
   "outputs": [],
   "source": [
    "\n",
    "ids.loc[46,'id'] = '1303.1518v1'\n",
    "ids.loc[122,'id'] = '1304.5428v1'\n",
    "ids.loc[146,'id'] = '1301.2275v1'\n",
    "ids.loc[158,'id'] = '1207.2459v1'\n",
    "ids.loc[164,'id'] = '1303.1466v1'\n",
    "ids.loc[180,'id'] = '1206.0925v1'\n",
    "ids.loc[186,'id'] = '1206.1042v2'\n",
    "ids.loc[201,'id'] = '1206.6851v1'\n",
    "ids.loc[286,'id'] = '1301.3885v1'\n",
    "ids.loc[290,'id'] = '1302.6782v1'\n",
    "ids.loc[388,'id'] = '1206.3280v1'\n",
    "ids.loc[390,'id'] = '1205.2625v1'\n",
    "ids.loc[428,'id'] = '1301.3312v1'\n"
   ]
  },
  {
   "cell_type": "code",
   "execution_count": 18,
   "metadata": {},
   "outputs": [
    {
     "data": {
      "text/plain": [
       "0"
      ]
     },
     "execution_count": 18,
     "metadata": {},
     "output_type": "execute_result"
    }
   ],
   "source": [
    "# ids[ids.id.apply(lambda x: re.match('^\\d',x) is None)]\n",
    "\n",
    "# ids.to_csv('testing_ids_2.csv',header=True,index=False,sep=';')\n",
    "ids.id.duplicated().sum()"
   ]
  },
  {
   "cell_type": "code",
   "execution_count": 19,
   "metadata": {
    "collapsed": true
   },
   "outputs": [],
   "source": [
    "docs['id'] = ids.id\n",
    "docs.to_csv('titulo_doc_comunidade_page_rank_with_id.csv',header=True,index=False,sep=';')"
   ]
  },
  {
   "cell_type": "code",
   "execution_count": 22,
   "metadata": {},
   "outputs": [
    {
     "data": {
      "text/plain": [
       "'Propagation using Chain Event Graphs'"
      ]
     },
     "execution_count": 22,
     "metadata": {},
     "output_type": "execute_result"
    }
   ],
   "source": [
    "ids.loc[431,'title']"
   ]
  },
  {
   "cell_type": "code",
   "execution_count": 173,
   "metadata": {},
   "outputs": [
    {
     "data": {
      "text/plain": [
       "['ls: pdf/1301.2275v1.pdf: No such file or directory']"
      ]
     },
     "execution_count": 173,
     "metadata": {},
     "output_type": "execute_result"
    }
   ],
   "source": [
    "x"
   ]
  },
  {
   "cell_type": "code",
   "execution_count": 2,
   "metadata": {
    "collapsed": true
   },
   "outputs": [],
   "source": [
    "import os"
   ]
  },
  {
   "cell_type": "code",
   "execution_count": 23,
   "metadata": {},
   "outputs": [
    {
     "data": {
      "text/plain": [
       "'1302.1525v1'"
      ]
     },
     "execution_count": 23,
     "metadata": {},
     "output_type": "execute_result"
    }
   ],
   "source": [
    "ids.loc[3,'id']"
   ]
  },
  {
   "cell_type": "code",
   "execution_count": null,
   "metadata": {
    "collapsed": true
   },
   "outputs": [],
   "source": []
  }
 ],
 "metadata": {
  "kernelspec": {
   "display_name": "Python 3",
   "language": "python",
   "name": "python3"
  },
  "language_info": {
   "codemirror_mode": {
    "name": "ipython",
    "version": 3
   },
   "file_extension": ".py",
   "mimetype": "text/x-python",
   "name": "python",
   "nbconvert_exporter": "python",
   "pygments_lexer": "ipython3",
   "version": "3.6.4"
  }
 },
 "nbformat": 4,
 "nbformat_minor": 2
}
